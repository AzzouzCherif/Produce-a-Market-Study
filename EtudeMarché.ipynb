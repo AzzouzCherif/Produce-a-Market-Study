{
 "cells": [
  {
   "cell_type": "code",
   "execution_count": 1,
   "id": "fadcabe7",
   "metadata": {},
   "outputs": [],
   "source": [
    "import numpy as np\n",
    "import pandas as pd\n",
    "import seaborn as sns\n",
    "from scipy.cluster.hierarchy import linkage, fcluster, dendrogram\n",
    "from scipy.stats import ks_2samp\n",
    "import scipy as st\n",
    "import scipy.stats\n",
    "import statsmodels.api as sm\n",
    "from sklearn import preprocessing\n",
    "from sklearn import cluster, metrics\n",
    "from sklearn.decomposition import PCA\n",
    "from sklearn import decomposition\n",
    "from sklearn.cluster import KMeans\n",
    "import matplotlib.pyplot as plt"
   ]
  },
  {
   "cell_type": "code",
   "execution_count": 2,
   "id": "6a10eafe",
   "metadata": {},
   "outputs": [],
   "source": [
    "def display_circles(pcs, n_comp, pca, axis_ranks, labels=None, label_rotation=0, lims=None):\n",
    "    for d1, d2 in axis_ranks: # On affiche les 3 premiers plans factoriels, donc les 6 premières composantes\n",
    "        if d2 < n_comp:\n",
    "\n",
    "            # initialisation de la figure\n",
    "            fig, ax = plt.subplots(figsize=(10,10))\n",
    "\n",
    "            # détermination des limites du graphique\n",
    "            if lims is not None :\n",
    "                xmin, xmax, ymin, ymax = lims\n",
    "            elif pcs.shape[1] < 30 :\n",
    "                xmin, xmax, ymin, ymax = -1, 1, -1, 1\n",
    "            else :\n",
    "                xmin, xmax, ymin, ymax = min(pcs[d1,:]), max(pcs[d1,:]), min(pcs[d2,:]), max(pcs[d2,:])\n",
    "\n",
    "            # affichage des flèches\n",
    "            # s'il y a plus de 30 flèches, on n'affiche pas le triangle à leur extrémité\n",
    "            if pcs.shape[1] < 30 :\n",
    "                plt.quiver(np.zeros(pcs.shape[1]), np.zeros(pcs.shape[1]),\n",
    "                   pcs[d1,:], pcs[d2,:], \n",
    "                   angles='xy', scale_units='xy', scale=1, color=\"grey\")\n",
    "                # (voir la doc : https://matplotlib.org/api/_as_gen/matplotlib.pyplot.quiver.html)\n",
    "            else:\n",
    "                lines = [[[0,0],[x,y]] for x,y in pcs[[d1,d2]].T]\n",
    "                ax.add_collection(LineCollection(lines, axes=ax, alpha=.1, color='black'))\n",
    "            \n",
    "            # affichage des noms des variables  \n",
    "            if labels is not None:  \n",
    "                for i,(x, y) in enumerate(pcs[[d1,d2]].T):\n",
    "                    if x >= xmin and x <= xmax and y >= ymin and y <= ymax :\n",
    "                      plt.text(x, y, labels[i], fontsize='14', ha='center', va='center', rotation=label_rotation, color=\"blue\", alpha=0.5)\n",
    "            \n",
    "            # affichage du cercle\n",
    "            an = np.linspace(0, 2 * np.pi, 100)  # Add a unit circle for scale\n",
    "            plt.plot(np.cos(an), np.sin(an))\n",
    "            plt.axis('equal')\n",
    "\n",
    "            # définition des limites du graphique\n",
    "            plt.xlim(xmin, xmax)\n",
    "            plt.ylim(ymin, ymax)\n",
    "        \n",
    "            # affichage des lignes horizontales et verticales\n",
    "            plt.plot([-1, 1], [0, 0], color='grey', ls='--')\n",
    "            plt.plot([0, 0], [-1, 1], color='grey', ls='--')\n",
    "\n",
    "            # nom des axes, avec le pourcentage d'inertie expliqué\n",
    "            plt.xlabel('F{} ({}%)'.format(d1+1, round(100*pca.explained_variance_ratio_[d1],1)))\n",
    "            plt.ylabel('F{} ({}%)'.format(d2+1, round(100*pca.explained_variance_ratio_[d2],1)))\n",
    "\n",
    "            plt.title(\"Cercle des corrélations (F{} et F{})\".format(d1+1, d2+1))\n",
    "            plt.show(block=False)\n",
    "        \n",
    "def display_factorial_planes(X_projected, n_comp, pca, axis_ranks, labels=None, alpha=1, illustrative_var=None):\n",
    "    for d1,d2 in axis_ranks:\n",
    "        if d2 < n_comp:\n",
    " \n",
    "            # initialisation de la figure       \n",
    "            fig = plt.figure(figsize=(10,10))\n",
    "        \n",
    "            # affichage des points\n",
    "            if illustrative_var is None:\n",
    "                plt.scatter(X_projected[:, d1], X_projected[:, d2], alpha=alpha)\n",
    "            else:\n",
    "                illustrative_var = np.array(illustrative_var)\n",
    "                for value in np.unique(illustrative_var):\n",
    "                    selected = np.where(illustrative_var == value)\n",
    "                    plt.scatter(X_projected[selected, d1], X_projected[selected, d2], alpha=alpha, label=value)\n",
    "                plt.legend()\n",
    "\n",
    "            # affichage des labels des points\n",
    "            if labels is not None:\n",
    "                for i,(x,y) in enumerate(X_projected[:,[d1,d2]]):\n",
    "                    plt.text(x, y, labels[i],\n",
    "                              fontsize='14', ha='center',va='center') \n",
    "                \n",
    "            # détermination des limites du graphique\n",
    "            boundary = np.max(np.abs(X_projected[:, [d1,d2]])) * 1.1\n",
    "            plt.xlim([-boundary,boundary])\n",
    "            plt.ylim([-boundary,boundary])\n",
    "        \n",
    "            # affichage des lignes horizontales et verticales\n",
    "            plt.plot([-100, 100], [0, 0], color='grey', ls='--')\n",
    "            plt.plot([0, 0], [-100, 100], color='grey', ls='--')\n",
    "\n",
    "            # nom des axes, avec le pourcentage d'inertie expliqué\n",
    "            plt.xlabel('F{} ({}%)'.format(d1+1, round(100*pca.explained_variance_ratio_[d1],1)))\n",
    "            plt.ylabel('F{} ({}%)'.format(d2+1, round(100*pca.explained_variance_ratio_[d2],1)))\n",
    "\n",
    "            plt.title(\"Projection des individus (sur F{} et F{})\".format(d1+1, d2+1))\n",
    "            plt.show(block=False)"
   ]
  },
  {
   "cell_type": "code",
   "execution_count": 3,
   "id": "5a95ad68",
   "metadata": {},
   "outputs": [],
   "source": [
    "def f_test(x, y):\n",
    "    x = np.array(x)\n",
    "    y = np.array(y)\n",
    "    f = np.var(x, ddof=1)/np.var(y, ddof=1) #calculate F test statistic \n",
    "    dfn = x.size-1 #define degrees of freedom numerator \n",
    "    dfd = y.size-1 #define degrees of freedom denominator \n",
    "    p = 1-scipy.stats.f.cdf(f, dfn, dfd) #find p-value of F test statistic \n",
    "    return f, p"
   ]
  },
  {
   "cell_type": "code",
   "execution_count": null,
   "id": "63852c2b",
   "metadata": {},
   "outputs": [],
   "source": []
  },
  {
   "cell_type": "code",
   "execution_count": 4,
   "id": "6b50e180",
   "metadata": {},
   "outputs": [],
   "source": [
    "population=pd.read_csv(\"population.csv\")"
   ]
  },
  {
   "cell_type": "code",
   "execution_count": 5,
   "id": "3a8d9691",
   "metadata": {},
   "outputs": [
    {
     "name": "stdout",
     "output_type": "stream",
     "text": [
      "Code Domaine                0\n",
      "Domaine                     0\n",
      "Code zone (FAO)             0\n",
      "Zone                        0\n",
      "Code Élément                0\n",
      "Élément                     0\n",
      "Code Produit                0\n",
      "Produit                     0\n",
      "Code année                  0\n",
      "Année                       0\n",
      "Unité                       0\n",
      "Valeur                      0\n",
      "Symbole                     0\n",
      "Description du Symbole      0\n",
      "Note                      451\n",
      "dtype: int64\n",
      "\n"
     ]
    }
   ],
   "source": [
    "print( str(population.isna().sum()) + '\\n')\n",
    " "
   ]
  },
  {
   "cell_type": "code",
   "execution_count": 6,
   "id": "f2d4c4fd",
   "metadata": {},
   "outputs": [],
   "source": [
    "df=pd.pivot_table(population, values=\"Valeur\", index=['Code zone (FAO)','Zone'], columns='Année',aggfunc=sum).reset_index()"
   ]
  },
  {
   "cell_type": "code",
   "execution_count": 7,
   "id": "aa381d68",
   "metadata": {},
   "outputs": [
    {
     "data": {
      "text/html": [
       "<div>\n",
       "<style scoped>\n",
       "    .dataframe tbody tr th:only-of-type {\n",
       "        vertical-align: middle;\n",
       "    }\n",
       "\n",
       "    .dataframe tbody tr th {\n",
       "        vertical-align: top;\n",
       "    }\n",
       "\n",
       "    .dataframe thead th {\n",
       "        text-align: right;\n",
       "    }\n",
       "</style>\n",
       "<table border=\"1\" class=\"dataframe\">\n",
       "  <thead>\n",
       "    <tr style=\"text-align: right;\">\n",
       "      <th>Année</th>\n",
       "      <th>Code zone (FAO)</th>\n",
       "      <th>Zone</th>\n",
       "      <th>2014</th>\n",
       "      <th>2015</th>\n",
       "    </tr>\n",
       "  </thead>\n",
       "  <tbody>\n",
       "    <tr>\n",
       "      <th>0</th>\n",
       "      <td>1</td>\n",
       "      <td>Arménie</td>\n",
       "      <td>2912.409</td>\n",
       "      <td>2925.553</td>\n",
       "    </tr>\n",
       "    <tr>\n",
       "      <th>1</th>\n",
       "      <td>2</td>\n",
       "      <td>Afghanistan</td>\n",
       "      <td>33370.794</td>\n",
       "      <td>34413.603</td>\n",
       "    </tr>\n",
       "    <tr>\n",
       "      <th>2</th>\n",
       "      <td>3</td>\n",
       "      <td>Albanie</td>\n",
       "      <td>2896.305</td>\n",
       "      <td>2890.513</td>\n",
       "    </tr>\n",
       "    <tr>\n",
       "      <th>3</th>\n",
       "      <td>4</td>\n",
       "      <td>Algérie</td>\n",
       "      <td>38923.692</td>\n",
       "      <td>39728.025</td>\n",
       "    </tr>\n",
       "    <tr>\n",
       "      <th>4</th>\n",
       "      <td>5</td>\n",
       "      <td>Samoa américaines</td>\n",
       "      <td>55.791</td>\n",
       "      <td>55.812</td>\n",
       "    </tr>\n",
       "    <tr>\n",
       "      <th>...</th>\n",
       "      <td>...</td>\n",
       "      <td>...</td>\n",
       "      <td>...</td>\n",
       "      <td>...</td>\n",
       "    </tr>\n",
       "    <tr>\n",
       "      <th>232</th>\n",
       "      <td>280</td>\n",
       "      <td>Sint Maarten  (partie néerlandaise)</td>\n",
       "      <td>38.876</td>\n",
       "      <td>39.968</td>\n",
       "    </tr>\n",
       "    <tr>\n",
       "      <th>233</th>\n",
       "      <td>281</td>\n",
       "      <td>Saint-Martin (partie française)</td>\n",
       "      <td>36.015</td>\n",
       "      <td>35.858</td>\n",
       "    </tr>\n",
       "    <tr>\n",
       "      <th>234</th>\n",
       "      <td>282</td>\n",
       "      <td>Saint-Barthélemy</td>\n",
       "      <td>9.623</td>\n",
       "      <td>9.693</td>\n",
       "    </tr>\n",
       "    <tr>\n",
       "      <th>235</th>\n",
       "      <td>299</td>\n",
       "      <td>Palestine</td>\n",
       "      <td>4428.639</td>\n",
       "      <td>4529.166</td>\n",
       "    </tr>\n",
       "    <tr>\n",
       "      <th>236</th>\n",
       "      <td>351</td>\n",
       "      <td>Chine</td>\n",
       "      <td>1430670.819</td>\n",
       "      <td>1438193.428</td>\n",
       "    </tr>\n",
       "  </tbody>\n",
       "</table>\n",
       "<p>237 rows × 4 columns</p>\n",
       "</div>"
      ],
      "text/plain": [
       "Année  Code zone (FAO)                                 Zone         2014  \\\n",
       "0                    1                              Arménie     2912.409   \n",
       "1                    2                          Afghanistan    33370.794   \n",
       "2                    3                              Albanie     2896.305   \n",
       "3                    4                              Algérie    38923.692   \n",
       "4                    5                    Samoa américaines       55.791   \n",
       "..                 ...                                  ...          ...   \n",
       "232                280  Sint Maarten  (partie néerlandaise)       38.876   \n",
       "233                281      Saint-Martin (partie française)       36.015   \n",
       "234                282                     Saint-Barthélemy        9.623   \n",
       "235                299                            Palestine     4428.639   \n",
       "236                351                                Chine  1430670.819   \n",
       "\n",
       "Année         2015  \n",
       "0         2925.553  \n",
       "1        34413.603  \n",
       "2         2890.513  \n",
       "3        39728.025  \n",
       "4           55.812  \n",
       "..             ...  \n",
       "232         39.968  \n",
       "233         35.858  \n",
       "234          9.693  \n",
       "235       4529.166  \n",
       "236    1438193.428  \n",
       "\n",
       "[237 rows x 4 columns]"
      ]
     },
     "execution_count": 7,
     "metadata": {},
     "output_type": "execute_result"
    }
   ],
   "source": [
    "df"
   ]
  },
  {
   "cell_type": "code",
   "execution_count": 8,
   "id": "5ab88106",
   "metadata": {},
   "outputs": [],
   "source": [
    "df['pop_diff']=df[2015]-df[2014]"
   ]
  },
  {
   "cell_type": "code",
   "execution_count": 9,
   "id": "c372a506",
   "metadata": {},
   "outputs": [],
   "source": [
    "df['pop_ratio']=(df['pop_diff']/df[2014])*100"
   ]
  },
  {
   "cell_type": "code",
   "execution_count": 10,
   "id": "5534b454",
   "metadata": {},
   "outputs": [
    {
     "data": {
      "text/html": [
       "<div>\n",
       "<style scoped>\n",
       "    .dataframe tbody tr th:only-of-type {\n",
       "        vertical-align: middle;\n",
       "    }\n",
       "\n",
       "    .dataframe tbody tr th {\n",
       "        vertical-align: top;\n",
       "    }\n",
       "\n",
       "    .dataframe thead th {\n",
       "        text-align: right;\n",
       "    }\n",
       "</style>\n",
       "<table border=\"1\" class=\"dataframe\">\n",
       "  <thead>\n",
       "    <tr style=\"text-align: right;\">\n",
       "      <th>Année</th>\n",
       "      <th>Zone</th>\n",
       "      <th>pop_ratio</th>\n",
       "    </tr>\n",
       "  </thead>\n",
       "  <tbody>\n",
       "    <tr>\n",
       "      <th>0</th>\n",
       "      <td>Arménie</td>\n",
       "      <td>0.451310</td>\n",
       "    </tr>\n",
       "    <tr>\n",
       "      <th>1</th>\n",
       "      <td>Afghanistan</td>\n",
       "      <td>3.124915</td>\n",
       "    </tr>\n",
       "    <tr>\n",
       "      <th>2</th>\n",
       "      <td>Albanie</td>\n",
       "      <td>-0.199979</td>\n",
       "    </tr>\n",
       "    <tr>\n",
       "      <th>3</th>\n",
       "      <td>Algérie</td>\n",
       "      <td>2.066436</td>\n",
       "    </tr>\n",
       "    <tr>\n",
       "      <th>4</th>\n",
       "      <td>Samoa américaines</td>\n",
       "      <td>0.037640</td>\n",
       "    </tr>\n",
       "  </tbody>\n",
       "</table>\n",
       "</div>"
      ],
      "text/plain": [
       "Année               Zone  pop_ratio\n",
       "0                Arménie   0.451310\n",
       "1            Afghanistan   3.124915\n",
       "2                Albanie  -0.199979\n",
       "3                Algérie   2.066436\n",
       "4      Samoa américaines   0.037640"
      ]
     },
     "execution_count": 10,
     "metadata": {},
     "output_type": "execute_result"
    }
   ],
   "source": [
    "df_pop=df[['Zone','pop_ratio']].copy()\n",
    "df_pop.head()"
   ]
  },
  {
   "cell_type": "code",
   "execution_count": 11,
   "id": "7c10d6fc",
   "metadata": {},
   "outputs": [],
   "source": [
    "vege=pd.read_csv('vegetaux.csv')\n",
    "anim=pd.read_csv('animal.csv')"
   ]
  },
  {
   "cell_type": "code",
   "execution_count": 12,
   "id": "9bf93a64",
   "metadata": {},
   "outputs": [],
   "source": [
    "vege['origine'] = 'vegetale'\n",
    "anim['origine'] = 'animal'"
   ]
  },
  {
   "cell_type": "code",
   "execution_count": 13,
   "id": "4704fec1",
   "metadata": {},
   "outputs": [
    {
     "name": "stdout",
     "output_type": "stream",
     "text": [
      "Code Domaine              0\n",
      "Domaine                   0\n",
      "Code zone (FAO)           0\n",
      "Zone                      0\n",
      "Code Élément              0\n",
      "Élément                   0\n",
      "Code Produit              0\n",
      "Produit                   0\n",
      "Code année                0\n",
      "Année                     0\n",
      "Unité                     0\n",
      "Valeur                    0\n",
      "Symbole                   0\n",
      "Description du Symbole    0\n",
      "origine                   0\n",
      "dtype: int64\n",
      "\n",
      "Code Domaine              0\n",
      "Domaine                   0\n",
      "Code zone (FAO)           0\n",
      "Zone                      0\n",
      "Code Élément              0\n",
      "Élément                   0\n",
      "Code Produit              0\n",
      "Produit                   0\n",
      "Code année                0\n",
      "Année                     0\n",
      "Unité                     0\n",
      "Valeur                    0\n",
      "Symbole                   0\n",
      "Description du Symbole    0\n",
      "origine                   0\n",
      "dtype: int64\n",
      "\n"
     ]
    }
   ],
   "source": [
    "print(str(anim.isna().sum()) + '\\n' )\n",
    "print(str(vege.isna().sum()) + '\\n')"
   ]
  },
  {
   "cell_type": "code",
   "execution_count": null,
   "id": "dd00bba2",
   "metadata": {},
   "outputs": [],
   "source": []
  },
  {
   "cell_type": "code",
   "execution_count": 14,
   "id": "c8c4687a",
   "metadata": {},
   "outputs": [
    {
     "data": {
      "text/html": [
       "<div>\n",
       "<style scoped>\n",
       "    .dataframe tbody tr th:only-of-type {\n",
       "        vertical-align: middle;\n",
       "    }\n",
       "\n",
       "    .dataframe tbody tr th {\n",
       "        vertical-align: top;\n",
       "    }\n",
       "\n",
       "    .dataframe thead th {\n",
       "        text-align: right;\n",
       "    }\n",
       "</style>\n",
       "<table border=\"1\" class=\"dataframe\">\n",
       "  <thead>\n",
       "    <tr style=\"text-align: right;\">\n",
       "      <th></th>\n",
       "      <th>Code Domaine</th>\n",
       "      <th>Domaine</th>\n",
       "      <th>Code zone (FAO)</th>\n",
       "      <th>Zone</th>\n",
       "      <th>Code Élément</th>\n",
       "      <th>Élément</th>\n",
       "      <th>Code Produit</th>\n",
       "      <th>Produit</th>\n",
       "      <th>Code année</th>\n",
       "      <th>Année</th>\n",
       "      <th>Unité</th>\n",
       "      <th>Valeur</th>\n",
       "      <th>Symbole</th>\n",
       "      <th>Description du Symbole</th>\n",
       "      <th>origine</th>\n",
       "    </tr>\n",
       "  </thead>\n",
       "  <tbody>\n",
       "    <tr>\n",
       "      <th>0</th>\n",
       "      <td>FBS</td>\n",
       "      <td>Bilans Alimentaires (2014-)</td>\n",
       "      <td>2</td>\n",
       "      <td>Afghanistan</td>\n",
       "      <td>664</td>\n",
       "      <td>Disponibilité alimentaire (Kcal/personne/jour)</td>\n",
       "      <td>2941</td>\n",
       "      <td>Produits Animaux</td>\n",
       "      <td>2014</td>\n",
       "      <td>2014</td>\n",
       "      <td>Kcal/personne/jour</td>\n",
       "      <td>206.00</td>\n",
       "      <td>Fc</td>\n",
       "      <td>Donnée calculée</td>\n",
       "      <td>animal</td>\n",
       "    </tr>\n",
       "    <tr>\n",
       "      <th>1</th>\n",
       "      <td>FBS</td>\n",
       "      <td>Bilans Alimentaires (2014-)</td>\n",
       "      <td>2</td>\n",
       "      <td>Afghanistan</td>\n",
       "      <td>674</td>\n",
       "      <td>Disponibilité de protéines en quantité (g/pers...</td>\n",
       "      <td>2941</td>\n",
       "      <td>Produits Animaux</td>\n",
       "      <td>2014</td>\n",
       "      <td>2014</td>\n",
       "      <td>g/personne/jour</td>\n",
       "      <td>12.11</td>\n",
       "      <td>Fc</td>\n",
       "      <td>Donnée calculée</td>\n",
       "      <td>animal</td>\n",
       "    </tr>\n",
       "    <tr>\n",
       "      <th>2</th>\n",
       "      <td>FBS</td>\n",
       "      <td>Bilans Alimentaires (2014-)</td>\n",
       "      <td>2</td>\n",
       "      <td>Afghanistan</td>\n",
       "      <td>684</td>\n",
       "      <td>Disponibilité de matière grasse en quantité (g...</td>\n",
       "      <td>2941</td>\n",
       "      <td>Produits Animaux</td>\n",
       "      <td>2014</td>\n",
       "      <td>2014</td>\n",
       "      <td>g/personne/jour</td>\n",
       "      <td>14.36</td>\n",
       "      <td>Fc</td>\n",
       "      <td>Donnée calculée</td>\n",
       "      <td>animal</td>\n",
       "    </tr>\n",
       "    <tr>\n",
       "      <th>3</th>\n",
       "      <td>FBS</td>\n",
       "      <td>Bilans Alimentaires (2014-)</td>\n",
       "      <td>2</td>\n",
       "      <td>Afghanistan</td>\n",
       "      <td>5511</td>\n",
       "      <td>Production</td>\n",
       "      <td>2731</td>\n",
       "      <td>Viande de Bovins</td>\n",
       "      <td>2014</td>\n",
       "      <td>2014</td>\n",
       "      <td>Milliers de tonnes</td>\n",
       "      <td>137.00</td>\n",
       "      <td>Im</td>\n",
       "      <td>Données de la FAO basées sur une méthodologie ...</td>\n",
       "      <td>animal</td>\n",
       "    </tr>\n",
       "    <tr>\n",
       "      <th>4</th>\n",
       "      <td>FBS</td>\n",
       "      <td>Bilans Alimentaires (2014-)</td>\n",
       "      <td>2</td>\n",
       "      <td>Afghanistan</td>\n",
       "      <td>5611</td>\n",
       "      <td>Importations - Quantité</td>\n",
       "      <td>2731</td>\n",
       "      <td>Viande de Bovins</td>\n",
       "      <td>2014</td>\n",
       "      <td>2014</td>\n",
       "      <td>Milliers de tonnes</td>\n",
       "      <td>16.00</td>\n",
       "      <td>Im</td>\n",
       "      <td>Données de la FAO basées sur une méthodologie ...</td>\n",
       "      <td>animal</td>\n",
       "    </tr>\n",
       "  </tbody>\n",
       "</table>\n",
       "</div>"
      ],
      "text/plain": [
       "  Code Domaine                      Domaine  Code zone (FAO)         Zone  \\\n",
       "0          FBS  Bilans Alimentaires (2014-)                2  Afghanistan   \n",
       "1          FBS  Bilans Alimentaires (2014-)                2  Afghanistan   \n",
       "2          FBS  Bilans Alimentaires (2014-)                2  Afghanistan   \n",
       "3          FBS  Bilans Alimentaires (2014-)                2  Afghanistan   \n",
       "4          FBS  Bilans Alimentaires (2014-)                2  Afghanistan   \n",
       "\n",
       "   Code Élément                                            Élément  \\\n",
       "0           664     Disponibilité alimentaire (Kcal/personne/jour)   \n",
       "1           674  Disponibilité de protéines en quantité (g/pers...   \n",
       "2           684  Disponibilité de matière grasse en quantité (g...   \n",
       "3          5511                                         Production   \n",
       "4          5611                            Importations - Quantité   \n",
       "\n",
       "   Code Produit           Produit  Code année  Année               Unité  \\\n",
       "0          2941  Produits Animaux        2014   2014  Kcal/personne/jour   \n",
       "1          2941  Produits Animaux        2014   2014     g/personne/jour   \n",
       "2          2941  Produits Animaux        2014   2014     g/personne/jour   \n",
       "3          2731  Viande de Bovins        2014   2014  Milliers de tonnes   \n",
       "4          2731  Viande de Bovins        2014   2014  Milliers de tonnes   \n",
       "\n",
       "   Valeur Symbole                             Description du Symbole origine  \n",
       "0  206.00      Fc                                    Donnée calculée  animal  \n",
       "1   12.11      Fc                                    Donnée calculée  animal  \n",
       "2   14.36      Fc                                    Donnée calculée  animal  \n",
       "3  137.00      Im  Données de la FAO basées sur une méthodologie ...  animal  \n",
       "4   16.00      Im  Données de la FAO basées sur une méthodologie ...  animal  "
      ]
     },
     "execution_count": 14,
     "metadata": {},
     "output_type": "execute_result"
    }
   ],
   "source": [
    "animal_vegetal = pd.concat([anim, vege])\n",
    "animal_vegetal.head()"
   ]
  },
  {
   "cell_type": "code",
   "execution_count": 15,
   "id": "61c5e182",
   "metadata": {},
   "outputs": [
    {
     "data": {
      "text/plain": [
       "Code Domaine              0\n",
       "Domaine                   0\n",
       "Code zone (FAO)           0\n",
       "Zone                      0\n",
       "Code Élément              0\n",
       "Élément                   0\n",
       "Code Produit              0\n",
       "Produit                   0\n",
       "Code année                0\n",
       "Année                     0\n",
       "Unité                     0\n",
       "Valeur                    0\n",
       "Symbole                   0\n",
       "Description du Symbole    0\n",
       "origine                   0\n",
       "dtype: int64"
      ]
     },
     "execution_count": 15,
     "metadata": {},
     "output_type": "execute_result"
    }
   ],
   "source": [
    "animal_vegetal.isnull().sum()"
   ]
  },
  {
   "cell_type": "code",
   "execution_count": 16,
   "id": "e2251ce5",
   "metadata": {},
   "outputs": [],
   "source": [
    "animal_vegetal=pd.pivot_table(animal_vegetal,columns='Élément', index=['Code zone (FAO)', 'Zone', 'Code Produit', 'Produit','origine'],values='Valeur',aggfunc=np.sum).reset_index()"
   ]
  },
  {
   "cell_type": "code",
   "execution_count": 17,
   "id": "be190d5c",
   "metadata": {
    "scrolled": true
   },
   "outputs": [
    {
     "data": {
      "text/html": [
       "<div>\n",
       "<style scoped>\n",
       "    .dataframe tbody tr th:only-of-type {\n",
       "        vertical-align: middle;\n",
       "    }\n",
       "\n",
       "    .dataframe tbody tr th {\n",
       "        vertical-align: top;\n",
       "    }\n",
       "\n",
       "    .dataframe thead th {\n",
       "        text-align: right;\n",
       "    }\n",
       "</style>\n",
       "<table border=\"1\" class=\"dataframe\">\n",
       "  <thead>\n",
       "    <tr style=\"text-align: right;\">\n",
       "      <th>Élément</th>\n",
       "      <th>Code zone (FAO)</th>\n",
       "      <th>Zone</th>\n",
       "      <th>Code Produit</th>\n",
       "      <th>Produit</th>\n",
       "      <th>origine</th>\n",
       "      <th>Aliments pour animaux</th>\n",
       "      <th>Autres utilisations (non alimentaire)</th>\n",
       "      <th>Disponibilité alimentaire (Kcal/personne/jour)</th>\n",
       "      <th>Disponibilité alimentaire en quantité (kg/personne/an)</th>\n",
       "      <th>Disponibilité de matière grasse en quantité (g/personne/jour)</th>\n",
       "      <th>Disponibilité de protéines en quantité (g/personne/jour)</th>\n",
       "      <th>Disponibilité intérieure</th>\n",
       "      <th>Exportations - Quantité</th>\n",
       "      <th>Importations - Quantité</th>\n",
       "      <th>Nourriture</th>\n",
       "      <th>Pertes</th>\n",
       "      <th>Production</th>\n",
       "      <th>Semences</th>\n",
       "      <th>Variation de stock</th>\n",
       "    </tr>\n",
       "  </thead>\n",
       "  <tbody>\n",
       "    <tr>\n",
       "      <th>0</th>\n",
       "      <td>1</td>\n",
       "      <td>Arménie</td>\n",
       "      <td>2511</td>\n",
       "      <td>Blé et produits</td>\n",
       "      <td>vegetale</td>\n",
       "      <td>110.0</td>\n",
       "      <td>0.0</td>\n",
       "      <td>1107.0</td>\n",
       "      <td>139.33</td>\n",
       "      <td>3.90</td>\n",
       "      <td>33.01</td>\n",
       "      <td>639.0</td>\n",
       "      <td>1.0</td>\n",
       "      <td>344.0</td>\n",
       "      <td>406.0</td>\n",
       "      <td>30.0</td>\n",
       "      <td>338.0</td>\n",
       "      <td>32.0</td>\n",
       "      <td>42.0</td>\n",
       "    </tr>\n",
       "    <tr>\n",
       "      <th>1</th>\n",
       "      <td>1</td>\n",
       "      <td>Arménie</td>\n",
       "      <td>2513</td>\n",
       "      <td>Orge et produits</td>\n",
       "      <td>vegetale</td>\n",
       "      <td>152.0</td>\n",
       "      <td>5.0</td>\n",
       "      <td>8.0</td>\n",
       "      <td>0.97</td>\n",
       "      <td>0.04</td>\n",
       "      <td>0.28</td>\n",
       "      <td>196.0</td>\n",
       "      <td>0.0</td>\n",
       "      <td>6.0</td>\n",
       "      <td>3.0</td>\n",
       "      <td>16.0</td>\n",
       "      <td>190.0</td>\n",
       "      <td>15.0</td>\n",
       "      <td>0.0</td>\n",
       "    </tr>\n",
       "    <tr>\n",
       "      <th>2</th>\n",
       "      <td>1</td>\n",
       "      <td>Arménie</td>\n",
       "      <td>2514</td>\n",
       "      <td>Maïs et produits</td>\n",
       "      <td>vegetale</td>\n",
       "      <td>33.0</td>\n",
       "      <td>NaN</td>\n",
       "      <td>0.0</td>\n",
       "      <td>0.01</td>\n",
       "      <td>0.00</td>\n",
       "      <td>0.00</td>\n",
       "      <td>39.0</td>\n",
       "      <td>NaN</td>\n",
       "      <td>52.0</td>\n",
       "      <td>0.0</td>\n",
       "      <td>7.0</td>\n",
       "      <td>20.0</td>\n",
       "      <td>0.0</td>\n",
       "      <td>33.0</td>\n",
       "    </tr>\n",
       "    <tr>\n",
       "      <th>3</th>\n",
       "      <td>1</td>\n",
       "      <td>Arménie</td>\n",
       "      <td>2515</td>\n",
       "      <td>Seigle et produits</td>\n",
       "      <td>vegetale</td>\n",
       "      <td>0.0</td>\n",
       "      <td>NaN</td>\n",
       "      <td>1.0</td>\n",
       "      <td>0.13</td>\n",
       "      <td>0.01</td>\n",
       "      <td>0.03</td>\n",
       "      <td>0.0</td>\n",
       "      <td>NaN</td>\n",
       "      <td>0.0</td>\n",
       "      <td>0.0</td>\n",
       "      <td>0.0</td>\n",
       "      <td>1.0</td>\n",
       "      <td>0.0</td>\n",
       "      <td>1.0</td>\n",
       "    </tr>\n",
       "    <tr>\n",
       "      <th>4</th>\n",
       "      <td>1</td>\n",
       "      <td>Arménie</td>\n",
       "      <td>2516</td>\n",
       "      <td>Avoine</td>\n",
       "      <td>vegetale</td>\n",
       "      <td>6.0</td>\n",
       "      <td>NaN</td>\n",
       "      <td>5.0</td>\n",
       "      <td>0.47</td>\n",
       "      <td>0.09</td>\n",
       "      <td>0.19</td>\n",
       "      <td>8.0</td>\n",
       "      <td>NaN</td>\n",
       "      <td>1.0</td>\n",
       "      <td>1.0</td>\n",
       "      <td>0.0</td>\n",
       "      <td>7.0</td>\n",
       "      <td>1.0</td>\n",
       "      <td>-1.0</td>\n",
       "    </tr>\n",
       "  </tbody>\n",
       "</table>\n",
       "</div>"
      ],
      "text/plain": [
       "Élément  Code zone (FAO)     Zone  Code Produit             Produit   origine  \\\n",
       "0                      1  Arménie          2511     Blé et produits  vegetale   \n",
       "1                      1  Arménie          2513    Orge et produits  vegetale   \n",
       "2                      1  Arménie          2514    Maïs et produits  vegetale   \n",
       "3                      1  Arménie          2515  Seigle et produits  vegetale   \n",
       "4                      1  Arménie          2516              Avoine  vegetale   \n",
       "\n",
       "Élément  Aliments pour animaux  Autres utilisations (non alimentaire)  \\\n",
       "0                        110.0                                    0.0   \n",
       "1                        152.0                                    5.0   \n",
       "2                         33.0                                    NaN   \n",
       "3                          0.0                                    NaN   \n",
       "4                          6.0                                    NaN   \n",
       "\n",
       "Élément  Disponibilité alimentaire (Kcal/personne/jour)  \\\n",
       "0                                                1107.0   \n",
       "1                                                   8.0   \n",
       "2                                                   0.0   \n",
       "3                                                   1.0   \n",
       "4                                                   5.0   \n",
       "\n",
       "Élément  Disponibilité alimentaire en quantité (kg/personne/an)  \\\n",
       "0                                                   139.33        \n",
       "1                                                     0.97        \n",
       "2                                                     0.01        \n",
       "3                                                     0.13        \n",
       "4                                                     0.47        \n",
       "\n",
       "Élément  Disponibilité de matière grasse en quantité (g/personne/jour)  \\\n",
       "0                                                     3.90               \n",
       "1                                                     0.04               \n",
       "2                                                     0.00               \n",
       "3                                                     0.01               \n",
       "4                                                     0.09               \n",
       "\n",
       "Élément  Disponibilité de protéines en quantité (g/personne/jour)  \\\n",
       "0                                                    33.01          \n",
       "1                                                     0.28          \n",
       "2                                                     0.00          \n",
       "3                                                     0.03          \n",
       "4                                                     0.19          \n",
       "\n",
       "Élément  Disponibilité intérieure  Exportations - Quantité  \\\n",
       "0                           639.0                      1.0   \n",
       "1                           196.0                      0.0   \n",
       "2                            39.0                      NaN   \n",
       "3                             0.0                      NaN   \n",
       "4                             8.0                      NaN   \n",
       "\n",
       "Élément  Importations - Quantité  Nourriture  Pertes  Production  Semences  \\\n",
       "0                          344.0       406.0    30.0       338.0      32.0   \n",
       "1                            6.0         3.0    16.0       190.0      15.0   \n",
       "2                           52.0         0.0     7.0        20.0       0.0   \n",
       "3                            0.0         0.0     0.0         1.0       0.0   \n",
       "4                            1.0         1.0     0.0         7.0       1.0   \n",
       "\n",
       "Élément  Variation de stock  \n",
       "0                      42.0  \n",
       "1                       0.0  \n",
       "2                      33.0  \n",
       "3                       1.0  \n",
       "4                      -1.0  "
      ]
     },
     "execution_count": 17,
     "metadata": {},
     "output_type": "execute_result"
    }
   ],
   "source": [
    "animal_vegetal.head()"
   ]
  },
  {
   "cell_type": "code",
   "execution_count": 18,
   "id": "5bfe7aae",
   "metadata": {},
   "outputs": [],
   "source": [
    "animal_vegetal = animal_vegetal.rename(columns = {'Disponibilité intérieure' : 'dispo_int', \n",
    "                                          'Disponibilité alimentaire (Kcal/personne/jour)' : 'dispo_kcal_j',\n",
    "                                          'Disponibilité alimentaire en quantité (kg/personne/an)' : 'dispo_kg_p',\n",
    "                                          'Disponibilité de matière grasse en quantité (g/personne/jour)' : 'dispo_mat_g_p_j',\n",
    "                                          'Disponibilité de protéines en quantité (g/personne/jour)' : 'dispo_prot_g_p_j'})"
   ]
  },
  {
   "cell_type": "code",
   "execution_count": 19,
   "id": "580be03d",
   "metadata": {},
   "outputs": [],
   "source": [
    "animal_vegetal = pd.pivot_table(animal_vegetal, index=['Code zone (FAO)', 'Zone'], columns='origine', values=['dispo_prot_g_p_j', 'dispo_kcal_j'], aggfunc=np.sum).reset_index()\n",
    "columns = animal_vegetal.columns\n",
    "new_index = pd.Index([e[0] + e[1] for e in columns.tolist()])\n",
    "animal_vegetal.columns = new_index\n",
    "\n"
   ]
  },
  {
   "cell_type": "code",
   "execution_count": 20,
   "id": "790c0d6a",
   "metadata": {},
   "outputs": [
    {
     "data": {
      "text/html": [
       "<div>\n",
       "<style scoped>\n",
       "    .dataframe tbody tr th:only-of-type {\n",
       "        vertical-align: middle;\n",
       "    }\n",
       "\n",
       "    .dataframe tbody tr th {\n",
       "        vertical-align: top;\n",
       "    }\n",
       "\n",
       "    .dataframe thead th {\n",
       "        text-align: right;\n",
       "    }\n",
       "</style>\n",
       "<table border=\"1\" class=\"dataframe\">\n",
       "  <thead>\n",
       "    <tr style=\"text-align: right;\">\n",
       "      <th></th>\n",
       "      <th>Code zone (FAO)</th>\n",
       "      <th>Zone</th>\n",
       "      <th>dispo_kcal_janimal</th>\n",
       "      <th>dispo_kcal_jvegetale</th>\n",
       "      <th>dispo_prot_g_p_janimal</th>\n",
       "      <th>dispo_prot_g_p_jvegetale</th>\n",
       "    </tr>\n",
       "  </thead>\n",
       "  <tbody>\n",
       "    <tr>\n",
       "      <th>0</th>\n",
       "      <td>1</td>\n",
       "      <td>Arménie</td>\n",
       "      <td>1622.0</td>\n",
       "      <td>4512.0</td>\n",
       "      <td>90.75</td>\n",
       "      <td>104.27</td>\n",
       "    </tr>\n",
       "    <tr>\n",
       "      <th>1</th>\n",
       "      <td>2</td>\n",
       "      <td>Afghanistan</td>\n",
       "      <td>412.0</td>\n",
       "      <td>3779.0</td>\n",
       "      <td>24.23</td>\n",
       "      <td>92.12</td>\n",
       "    </tr>\n",
       "    <tr>\n",
       "      <th>2</th>\n",
       "      <td>3</td>\n",
       "      <td>Albanie</td>\n",
       "      <td>1874.0</td>\n",
       "      <td>4654.0</td>\n",
       "      <td>112.40</td>\n",
       "      <td>106.70</td>\n",
       "    </tr>\n",
       "    <tr>\n",
       "      <th>3</th>\n",
       "      <td>4</td>\n",
       "      <td>Algérie</td>\n",
       "      <td>888.0</td>\n",
       "      <td>5860.0</td>\n",
       "      <td>55.49</td>\n",
       "      <td>134.27</td>\n",
       "    </tr>\n",
       "    <tr>\n",
       "      <th>4</th>\n",
       "      <td>7</td>\n",
       "      <td>Angola</td>\n",
       "      <td>550.0</td>\n",
       "      <td>4283.0</td>\n",
       "      <td>44.55</td>\n",
       "      <td>71.28</td>\n",
       "    </tr>\n",
       "    <tr>\n",
       "      <th>...</th>\n",
       "      <td>...</td>\n",
       "      <td>...</td>\n",
       "      <td>...</td>\n",
       "      <td>...</td>\n",
       "      <td>...</td>\n",
       "      <td>...</td>\n",
       "    </tr>\n",
       "    <tr>\n",
       "      <th>171</th>\n",
       "      <td>256</td>\n",
       "      <td>Luxembourg</td>\n",
       "      <td>2268.0</td>\n",
       "      <td>4720.0</td>\n",
       "      <td>137.54</td>\n",
       "      <td>85.61</td>\n",
       "    </tr>\n",
       "    <tr>\n",
       "      <th>172</th>\n",
       "      <td>272</td>\n",
       "      <td>Serbie</td>\n",
       "      <td>1554.0</td>\n",
       "      <td>4056.0</td>\n",
       "      <td>87.28</td>\n",
       "      <td>83.59</td>\n",
       "    </tr>\n",
       "    <tr>\n",
       "      <th>173</th>\n",
       "      <td>273</td>\n",
       "      <td>Monténégro</td>\n",
       "      <td>2369.0</td>\n",
       "      <td>4381.0</td>\n",
       "      <td>128.76</td>\n",
       "      <td>85.53</td>\n",
       "    </tr>\n",
       "    <tr>\n",
       "      <th>174</th>\n",
       "      <td>276</td>\n",
       "      <td>Soudan</td>\n",
       "      <td>758.0</td>\n",
       "      <td>4416.0</td>\n",
       "      <td>43.12</td>\n",
       "      <td>105.16</td>\n",
       "    </tr>\n",
       "    <tr>\n",
       "      <th>175</th>\n",
       "      <td>351</td>\n",
       "      <td>Chine</td>\n",
       "      <td>1438.0</td>\n",
       "      <td>4860.0</td>\n",
       "      <td>78.65</td>\n",
       "      <td>117.79</td>\n",
       "    </tr>\n",
       "  </tbody>\n",
       "</table>\n",
       "<p>176 rows × 6 columns</p>\n",
       "</div>"
      ],
      "text/plain": [
       "     Code zone (FAO)         Zone  dispo_kcal_janimal  dispo_kcal_jvegetale  \\\n",
       "0                  1      Arménie              1622.0                4512.0   \n",
       "1                  2  Afghanistan               412.0                3779.0   \n",
       "2                  3      Albanie              1874.0                4654.0   \n",
       "3                  4      Algérie               888.0                5860.0   \n",
       "4                  7       Angola               550.0                4283.0   \n",
       "..               ...          ...                 ...                   ...   \n",
       "171              256   Luxembourg              2268.0                4720.0   \n",
       "172              272       Serbie              1554.0                4056.0   \n",
       "173              273   Monténégro              2369.0                4381.0   \n",
       "174              276       Soudan               758.0                4416.0   \n",
       "175              351        Chine              1438.0                4860.0   \n",
       "\n",
       "     dispo_prot_g_p_janimal  dispo_prot_g_p_jvegetale  \n",
       "0                     90.75                    104.27  \n",
       "1                     24.23                     92.12  \n",
       "2                    112.40                    106.70  \n",
       "3                     55.49                    134.27  \n",
       "4                     44.55                     71.28  \n",
       "..                      ...                       ...  \n",
       "171                  137.54                     85.61  \n",
       "172                   87.28                     83.59  \n",
       "173                  128.76                     85.53  \n",
       "174                   43.12                    105.16  \n",
       "175                   78.65                    117.79  \n",
       "\n",
       "[176 rows x 6 columns]"
      ]
     },
     "execution_count": 20,
     "metadata": {},
     "output_type": "execute_result"
    }
   ],
   "source": [
    "animal_vegetal"
   ]
  },
  {
   "cell_type": "code",
   "execution_count": 21,
   "id": "98c2b0a0",
   "metadata": {},
   "outputs": [
    {
     "data": {
      "text/plain": [
       "Code zone (FAO)             0\n",
       "Zone                        0\n",
       "dispo_kcal_janimal          0\n",
       "dispo_kcal_jvegetale        2\n",
       "dispo_prot_g_p_janimal      0\n",
       "dispo_prot_g_p_jvegetale    2\n",
       "dtype: int64"
      ]
     },
     "execution_count": 21,
     "metadata": {},
     "output_type": "execute_result"
    }
   ],
   "source": [
    "animal_vegetal.isnull().sum()"
   ]
  },
  {
   "cell_type": "code",
   "execution_count": 22,
   "id": "9b37b53b",
   "metadata": {},
   "outputs": [
    {
     "data": {
      "text/html": [
       "<div>\n",
       "<style scoped>\n",
       "    .dataframe tbody tr th:only-of-type {\n",
       "        vertical-align: middle;\n",
       "    }\n",
       "\n",
       "    .dataframe tbody tr th {\n",
       "        vertical-align: top;\n",
       "    }\n",
       "\n",
       "    .dataframe thead th {\n",
       "        text-align: right;\n",
       "    }\n",
       "</style>\n",
       "<table border=\"1\" class=\"dataframe\">\n",
       "  <thead>\n",
       "    <tr style=\"text-align: right;\">\n",
       "      <th></th>\n",
       "      <th>Code zone (FAO)</th>\n",
       "      <th>Zone</th>\n",
       "      <th>dispo_kcal_janimal</th>\n",
       "      <th>dispo_kcal_jvegetale</th>\n",
       "      <th>dispo_prot_g_p_janimal</th>\n",
       "      <th>dispo_prot_g_p_jvegetale</th>\n",
       "    </tr>\n",
       "  </thead>\n",
       "  <tbody>\n",
       "    <tr>\n",
       "      <th>28</th>\n",
       "      <td>45</td>\n",
       "      <td>Comores</td>\n",
       "      <td>0.0</td>\n",
       "      <td>NaN</td>\n",
       "      <td>0.0</td>\n",
       "      <td>NaN</td>\n",
       "    </tr>\n",
       "    <tr>\n",
       "      <th>136</th>\n",
       "      <td>196</td>\n",
       "      <td>Seychelles</td>\n",
       "      <td>0.0</td>\n",
       "      <td>NaN</td>\n",
       "      <td>0.0</td>\n",
       "      <td>NaN</td>\n",
       "    </tr>\n",
       "  </tbody>\n",
       "</table>\n",
       "</div>"
      ],
      "text/plain": [
       "     Code zone (FAO)        Zone  dispo_kcal_janimal  dispo_kcal_jvegetale  \\\n",
       "28                45     Comores                 0.0                   NaN   \n",
       "136              196  Seychelles                 0.0                   NaN   \n",
       "\n",
       "     dispo_prot_g_p_janimal  dispo_prot_g_p_jvegetale  \n",
       "28                      0.0                       NaN  \n",
       "136                     0.0                       NaN  "
      ]
     },
     "execution_count": 22,
     "metadata": {},
     "output_type": "execute_result"
    }
   ],
   "source": [
    "animal_vegetal[animal_vegetal['dispo_kcal_jvegetale'].isnull()]\n"
   ]
  },
  {
   "cell_type": "code",
   "execution_count": 23,
   "id": "ab3e904f",
   "metadata": {},
   "outputs": [],
   "source": [
    "animal_vegetal=animal_vegetal.drop(index=[28,136])"
   ]
  },
  {
   "cell_type": "code",
   "execution_count": 24,
   "id": "2510d846",
   "metadata": {},
   "outputs": [
    {
     "data": {
      "text/plain": [
       "Code zone (FAO)             0\n",
       "Zone                        0\n",
       "dispo_kcal_janimal          0\n",
       "dispo_kcal_jvegetale        0\n",
       "dispo_prot_g_p_janimal      0\n",
       "dispo_prot_g_p_jvegetale    0\n",
       "dtype: int64"
      ]
     },
     "execution_count": 24,
     "metadata": {},
     "output_type": "execute_result"
    }
   ],
   "source": [
    "animal_vegetal.isnull().sum()"
   ]
  },
  {
   "cell_type": "code",
   "execution_count": 25,
   "id": "49a09aa4",
   "metadata": {},
   "outputs": [
    {
     "data": {
      "text/html": [
       "<div>\n",
       "<style scoped>\n",
       "    .dataframe tbody tr th:only-of-type {\n",
       "        vertical-align: middle;\n",
       "    }\n",
       "\n",
       "    .dataframe tbody tr th {\n",
       "        vertical-align: top;\n",
       "    }\n",
       "\n",
       "    .dataframe thead th {\n",
       "        text-align: right;\n",
       "    }\n",
       "</style>\n",
       "<table border=\"1\" class=\"dataframe\">\n",
       "  <thead>\n",
       "    <tr style=\"text-align: right;\">\n",
       "      <th></th>\n",
       "      <th>Code zone (FAO)</th>\n",
       "      <th>Zone</th>\n",
       "      <th>dispo_kcal_janimal</th>\n",
       "      <th>dispo_kcal_jvegetale</th>\n",
       "      <th>dispo_prot_g_p_janimal</th>\n",
       "      <th>dispo_prot_g_p_jvegetale</th>\n",
       "      <th>%prot_anim_prot_tot</th>\n",
       "    </tr>\n",
       "  </thead>\n",
       "  <tbody>\n",
       "    <tr>\n",
       "      <th>0</th>\n",
       "      <td>1</td>\n",
       "      <td>Arménie</td>\n",
       "      <td>1622.0</td>\n",
       "      <td>4512.0</td>\n",
       "      <td>90.75</td>\n",
       "      <td>104.27</td>\n",
       "      <td>46.53</td>\n",
       "    </tr>\n",
       "    <tr>\n",
       "      <th>1</th>\n",
       "      <td>2</td>\n",
       "      <td>Afghanistan</td>\n",
       "      <td>412.0</td>\n",
       "      <td>3779.0</td>\n",
       "      <td>24.23</td>\n",
       "      <td>92.12</td>\n",
       "      <td>20.83</td>\n",
       "    </tr>\n",
       "    <tr>\n",
       "      <th>2</th>\n",
       "      <td>3</td>\n",
       "      <td>Albanie</td>\n",
       "      <td>1874.0</td>\n",
       "      <td>4654.0</td>\n",
       "      <td>112.40</td>\n",
       "      <td>106.70</td>\n",
       "      <td>51.30</td>\n",
       "    </tr>\n",
       "    <tr>\n",
       "      <th>3</th>\n",
       "      <td>4</td>\n",
       "      <td>Algérie</td>\n",
       "      <td>888.0</td>\n",
       "      <td>5860.0</td>\n",
       "      <td>55.49</td>\n",
       "      <td>134.27</td>\n",
       "      <td>29.24</td>\n",
       "    </tr>\n",
       "    <tr>\n",
       "      <th>4</th>\n",
       "      <td>7</td>\n",
       "      <td>Angola</td>\n",
       "      <td>550.0</td>\n",
       "      <td>4283.0</td>\n",
       "      <td>44.55</td>\n",
       "      <td>71.28</td>\n",
       "      <td>38.46</td>\n",
       "    </tr>\n",
       "  </tbody>\n",
       "</table>\n",
       "</div>"
      ],
      "text/plain": [
       "   Code zone (FAO)         Zone  dispo_kcal_janimal  dispo_kcal_jvegetale  \\\n",
       "0                1      Arménie              1622.0                4512.0   \n",
       "1                2  Afghanistan               412.0                3779.0   \n",
       "2                3      Albanie              1874.0                4654.0   \n",
       "3                4      Algérie               888.0                5860.0   \n",
       "4                7       Angola               550.0                4283.0   \n",
       "\n",
       "   dispo_prot_g_p_janimal  dispo_prot_g_p_jvegetale  %prot_anim_prot_tot  \n",
       "0                   90.75                    104.27                46.53  \n",
       "1                   24.23                     92.12                20.83  \n",
       "2                  112.40                    106.70                51.30  \n",
       "3                   55.49                    134.27                29.24  \n",
       "4                   44.55                     71.28                38.46  "
      ]
     },
     "execution_count": 25,
     "metadata": {},
     "output_type": "execute_result"
    }
   ],
   "source": [
    "animal_vegetal['%prot_anim_prot_tot'] = round((animal_vegetal['dispo_prot_g_p_janimal']/(animal_vegetal['dispo_prot_g_p_janimal'] + animal_vegetal['dispo_prot_g_p_jvegetale']))*100, 2)\n",
    "animal_vegetal.head()"
   ]
  },
  {
   "cell_type": "code",
   "execution_count": 26,
   "id": "8bed319b",
   "metadata": {},
   "outputs": [
    {
     "data": {
      "text/plain": [
       "Code zone (FAO)             0\n",
       "Zone                        0\n",
       "dispo_kcal_janimal          0\n",
       "dispo_kcal_jvegetale        0\n",
       "dispo_prot_g_p_janimal      0\n",
       "dispo_prot_g_p_jvegetale    0\n",
       "%prot_anim_prot_tot         0\n",
       "dtype: int64"
      ]
     },
     "execution_count": 26,
     "metadata": {},
     "output_type": "execute_result"
    }
   ],
   "source": [
    "animal_vegetal.isnull().sum()"
   ]
  },
  {
   "cell_type": "code",
   "execution_count": 27,
   "id": "3a916634",
   "metadata": {},
   "outputs": [],
   "source": [
    "#dispo prot par habitant par habitant par ans\n",
    "\n",
    "animal_vegetal['dispo_prot_hab_ans'] = (animal_vegetal['dispo_prot_g_p_janimal'] + animal_vegetal['dispo_prot_g_p_jvegetale']) * 365"
   ]
  },
  {
   "cell_type": "code",
   "execution_count": 28,
   "id": "27dae74b",
   "metadata": {},
   "outputs": [],
   "source": [
    "#dispo KCLA par habitant par habitant par ans\n",
    "animal_vegetal['dispo_kcal_hab_ans'] = (animal_vegetal['dispo_kcal_janimal'] + animal_vegetal['dispo_kcal_jvegetale']) * 365"
   ]
  },
  {
   "cell_type": "code",
   "execution_count": 29,
   "id": "46b3a044",
   "metadata": {},
   "outputs": [
    {
     "data": {
      "text/html": [
       "<div>\n",
       "<style scoped>\n",
       "    .dataframe tbody tr th:only-of-type {\n",
       "        vertical-align: middle;\n",
       "    }\n",
       "\n",
       "    .dataframe tbody tr th {\n",
       "        vertical-align: top;\n",
       "    }\n",
       "\n",
       "    .dataframe thead th {\n",
       "        text-align: right;\n",
       "    }\n",
       "</style>\n",
       "<table border=\"1\" class=\"dataframe\">\n",
       "  <thead>\n",
       "    <tr style=\"text-align: right;\">\n",
       "      <th></th>\n",
       "      <th>Code zone (FAO)</th>\n",
       "      <th>Zone</th>\n",
       "      <th>dispo_kcal_janimal</th>\n",
       "      <th>dispo_kcal_jvegetale</th>\n",
       "      <th>dispo_prot_g_p_janimal</th>\n",
       "      <th>dispo_prot_g_p_jvegetale</th>\n",
       "      <th>%prot_anim_prot_tot</th>\n",
       "      <th>dispo_prot_hab_ans</th>\n",
       "      <th>dispo_kcal_hab_ans</th>\n",
       "    </tr>\n",
       "  </thead>\n",
       "  <tbody>\n",
       "    <tr>\n",
       "      <th>0</th>\n",
       "      <td>1</td>\n",
       "      <td>Arménie</td>\n",
       "      <td>1622.0</td>\n",
       "      <td>4512.0</td>\n",
       "      <td>90.75</td>\n",
       "      <td>104.27</td>\n",
       "      <td>46.53</td>\n",
       "      <td>71182.30</td>\n",
       "      <td>2238910.0</td>\n",
       "    </tr>\n",
       "    <tr>\n",
       "      <th>1</th>\n",
       "      <td>2</td>\n",
       "      <td>Afghanistan</td>\n",
       "      <td>412.0</td>\n",
       "      <td>3779.0</td>\n",
       "      <td>24.23</td>\n",
       "      <td>92.12</td>\n",
       "      <td>20.83</td>\n",
       "      <td>42467.75</td>\n",
       "      <td>1529715.0</td>\n",
       "    </tr>\n",
       "    <tr>\n",
       "      <th>2</th>\n",
       "      <td>3</td>\n",
       "      <td>Albanie</td>\n",
       "      <td>1874.0</td>\n",
       "      <td>4654.0</td>\n",
       "      <td>112.40</td>\n",
       "      <td>106.70</td>\n",
       "      <td>51.30</td>\n",
       "      <td>79971.50</td>\n",
       "      <td>2382720.0</td>\n",
       "    </tr>\n",
       "    <tr>\n",
       "      <th>3</th>\n",
       "      <td>4</td>\n",
       "      <td>Algérie</td>\n",
       "      <td>888.0</td>\n",
       "      <td>5860.0</td>\n",
       "      <td>55.49</td>\n",
       "      <td>134.27</td>\n",
       "      <td>29.24</td>\n",
       "      <td>69262.40</td>\n",
       "      <td>2463020.0</td>\n",
       "    </tr>\n",
       "    <tr>\n",
       "      <th>4</th>\n",
       "      <td>7</td>\n",
       "      <td>Angola</td>\n",
       "      <td>550.0</td>\n",
       "      <td>4283.0</td>\n",
       "      <td>44.55</td>\n",
       "      <td>71.28</td>\n",
       "      <td>38.46</td>\n",
       "      <td>42277.95</td>\n",
       "      <td>1764045.0</td>\n",
       "    </tr>\n",
       "  </tbody>\n",
       "</table>\n",
       "</div>"
      ],
      "text/plain": [
       "   Code zone (FAO)         Zone  dispo_kcal_janimal  dispo_kcal_jvegetale  \\\n",
       "0                1      Arménie              1622.0                4512.0   \n",
       "1                2  Afghanistan               412.0                3779.0   \n",
       "2                3      Albanie              1874.0                4654.0   \n",
       "3                4      Algérie               888.0                5860.0   \n",
       "4                7       Angola               550.0                4283.0   \n",
       "\n",
       "   dispo_prot_g_p_janimal  dispo_prot_g_p_jvegetale  %prot_anim_prot_tot  \\\n",
       "0                   90.75                    104.27                46.53   \n",
       "1                   24.23                     92.12                20.83   \n",
       "2                  112.40                    106.70                51.30   \n",
       "3                   55.49                    134.27                29.24   \n",
       "4                   44.55                     71.28                38.46   \n",
       "\n",
       "   dispo_prot_hab_ans  dispo_kcal_hab_ans  \n",
       "0            71182.30           2238910.0  \n",
       "1            42467.75           1529715.0  \n",
       "2            79971.50           2382720.0  \n",
       "3            69262.40           2463020.0  \n",
       "4            42277.95           1764045.0  "
      ]
     },
     "execution_count": 29,
     "metadata": {},
     "output_type": "execute_result"
    }
   ],
   "source": [
    "animal_vegetal.head()"
   ]
  },
  {
   "cell_type": "code",
   "execution_count": 30,
   "id": "407e3310",
   "metadata": {},
   "outputs": [
    {
     "data": {
      "text/html": [
       "<div>\n",
       "<style scoped>\n",
       "    .dataframe tbody tr th:only-of-type {\n",
       "        vertical-align: middle;\n",
       "    }\n",
       "\n",
       "    .dataframe tbody tr th {\n",
       "        vertical-align: top;\n",
       "    }\n",
       "\n",
       "    .dataframe thead th {\n",
       "        text-align: right;\n",
       "    }\n",
       "</style>\n",
       "<table border=\"1\" class=\"dataframe\">\n",
       "  <thead>\n",
       "    <tr style=\"text-align: right;\">\n",
       "      <th></th>\n",
       "      <th>Code zone (FAO)</th>\n",
       "      <th>Zone</th>\n",
       "      <th>dispo_kcal_janimal</th>\n",
       "      <th>dispo_kcal_jvegetale</th>\n",
       "      <th>dispo_prot_g_p_janimal</th>\n",
       "      <th>dispo_prot_g_p_jvegetale</th>\n",
       "      <th>%prot_anim_prot_tot</th>\n",
       "      <th>dispo_prot_hab_ans</th>\n",
       "      <th>dispo_kcal_hab_ans</th>\n",
       "      <th>pop_ratio</th>\n",
       "    </tr>\n",
       "  </thead>\n",
       "  <tbody>\n",
       "    <tr>\n",
       "      <th>0</th>\n",
       "      <td>1</td>\n",
       "      <td>Arménie</td>\n",
       "      <td>1622.0</td>\n",
       "      <td>4512.0</td>\n",
       "      <td>90.75</td>\n",
       "      <td>104.27</td>\n",
       "      <td>46.53</td>\n",
       "      <td>71182.30</td>\n",
       "      <td>2238910.0</td>\n",
       "      <td>0.451310</td>\n",
       "    </tr>\n",
       "    <tr>\n",
       "      <th>1</th>\n",
       "      <td>2</td>\n",
       "      <td>Afghanistan</td>\n",
       "      <td>412.0</td>\n",
       "      <td>3779.0</td>\n",
       "      <td>24.23</td>\n",
       "      <td>92.12</td>\n",
       "      <td>20.83</td>\n",
       "      <td>42467.75</td>\n",
       "      <td>1529715.0</td>\n",
       "      <td>3.124915</td>\n",
       "    </tr>\n",
       "    <tr>\n",
       "      <th>2</th>\n",
       "      <td>3</td>\n",
       "      <td>Albanie</td>\n",
       "      <td>1874.0</td>\n",
       "      <td>4654.0</td>\n",
       "      <td>112.40</td>\n",
       "      <td>106.70</td>\n",
       "      <td>51.30</td>\n",
       "      <td>79971.50</td>\n",
       "      <td>2382720.0</td>\n",
       "      <td>-0.199979</td>\n",
       "    </tr>\n",
       "    <tr>\n",
       "      <th>3</th>\n",
       "      <td>4</td>\n",
       "      <td>Algérie</td>\n",
       "      <td>888.0</td>\n",
       "      <td>5860.0</td>\n",
       "      <td>55.49</td>\n",
       "      <td>134.27</td>\n",
       "      <td>29.24</td>\n",
       "      <td>69262.40</td>\n",
       "      <td>2463020.0</td>\n",
       "      <td>2.066436</td>\n",
       "    </tr>\n",
       "    <tr>\n",
       "      <th>4</th>\n",
       "      <td>7</td>\n",
       "      <td>Angola</td>\n",
       "      <td>550.0</td>\n",
       "      <td>4283.0</td>\n",
       "      <td>44.55</td>\n",
       "      <td>71.28</td>\n",
       "      <td>38.46</td>\n",
       "      <td>42277.95</td>\n",
       "      <td>1764045.0</td>\n",
       "      <td>3.498663</td>\n",
       "    </tr>\n",
       "    <tr>\n",
       "      <th>...</th>\n",
       "      <td>...</td>\n",
       "      <td>...</td>\n",
       "      <td>...</td>\n",
       "      <td>...</td>\n",
       "      <td>...</td>\n",
       "      <td>...</td>\n",
       "      <td>...</td>\n",
       "      <td>...</td>\n",
       "      <td>...</td>\n",
       "      <td>...</td>\n",
       "    </tr>\n",
       "    <tr>\n",
       "      <th>169</th>\n",
       "      <td>256</td>\n",
       "      <td>Luxembourg</td>\n",
       "      <td>2268.0</td>\n",
       "      <td>4720.0</td>\n",
       "      <td>137.54</td>\n",
       "      <td>85.61</td>\n",
       "      <td>61.64</td>\n",
       "      <td>81449.75</td>\n",
       "      <td>2550620.0</td>\n",
       "      <td>2.204625</td>\n",
       "    </tr>\n",
       "    <tr>\n",
       "      <th>170</th>\n",
       "      <td>272</td>\n",
       "      <td>Serbie</td>\n",
       "      <td>1554.0</td>\n",
       "      <td>4056.0</td>\n",
       "      <td>87.28</td>\n",
       "      <td>83.59</td>\n",
       "      <td>51.08</td>\n",
       "      <td>62367.55</td>\n",
       "      <td>2047650.0</td>\n",
       "      <td>-0.241754</td>\n",
       "    </tr>\n",
       "    <tr>\n",
       "      <th>171</th>\n",
       "      <td>273</td>\n",
       "      <td>Monténégro</td>\n",
       "      <td>2369.0</td>\n",
       "      <td>4381.0</td>\n",
       "      <td>128.76</td>\n",
       "      <td>85.53</td>\n",
       "      <td>60.09</td>\n",
       "      <td>78215.85</td>\n",
       "      <td>2463750.0</td>\n",
       "      <td>0.049629</td>\n",
       "    </tr>\n",
       "    <tr>\n",
       "      <th>172</th>\n",
       "      <td>276</td>\n",
       "      <td>Soudan</td>\n",
       "      <td>758.0</td>\n",
       "      <td>4416.0</td>\n",
       "      <td>43.12</td>\n",
       "      <td>105.16</td>\n",
       "      <td>29.08</td>\n",
       "      <td>54122.20</td>\n",
       "      <td>1888510.0</td>\n",
       "      <td>2.436420</td>\n",
       "    </tr>\n",
       "    <tr>\n",
       "      <th>173</th>\n",
       "      <td>351</td>\n",
       "      <td>Chine</td>\n",
       "      <td>1438.0</td>\n",
       "      <td>4860.0</td>\n",
       "      <td>78.65</td>\n",
       "      <td>117.79</td>\n",
       "      <td>40.04</td>\n",
       "      <td>71700.60</td>\n",
       "      <td>2298770.0</td>\n",
       "      <td>0.525810</td>\n",
       "    </tr>\n",
       "  </tbody>\n",
       "</table>\n",
       "<p>174 rows × 10 columns</p>\n",
       "</div>"
      ],
      "text/plain": [
       "     Code zone (FAO)         Zone  dispo_kcal_janimal  dispo_kcal_jvegetale  \\\n",
       "0                  1      Arménie              1622.0                4512.0   \n",
       "1                  2  Afghanistan               412.0                3779.0   \n",
       "2                  3      Albanie              1874.0                4654.0   \n",
       "3                  4      Algérie               888.0                5860.0   \n",
       "4                  7       Angola               550.0                4283.0   \n",
       "..               ...          ...                 ...                   ...   \n",
       "169              256   Luxembourg              2268.0                4720.0   \n",
       "170              272       Serbie              1554.0                4056.0   \n",
       "171              273   Monténégro              2369.0                4381.0   \n",
       "172              276       Soudan               758.0                4416.0   \n",
       "173              351        Chine              1438.0                4860.0   \n",
       "\n",
       "     dispo_prot_g_p_janimal  dispo_prot_g_p_jvegetale  %prot_anim_prot_tot  \\\n",
       "0                     90.75                    104.27                46.53   \n",
       "1                     24.23                     92.12                20.83   \n",
       "2                    112.40                    106.70                51.30   \n",
       "3                     55.49                    134.27                29.24   \n",
       "4                     44.55                     71.28                38.46   \n",
       "..                      ...                       ...                  ...   \n",
       "169                  137.54                     85.61                61.64   \n",
       "170                   87.28                     83.59                51.08   \n",
       "171                  128.76                     85.53                60.09   \n",
       "172                   43.12                    105.16                29.08   \n",
       "173                   78.65                    117.79                40.04   \n",
       "\n",
       "     dispo_prot_hab_ans  dispo_kcal_hab_ans  pop_ratio  \n",
       "0              71182.30           2238910.0   0.451310  \n",
       "1              42467.75           1529715.0   3.124915  \n",
       "2              79971.50           2382720.0  -0.199979  \n",
       "3              69262.40           2463020.0   2.066436  \n",
       "4              42277.95           1764045.0   3.498663  \n",
       "..                  ...                 ...        ...  \n",
       "169            81449.75           2550620.0   2.204625  \n",
       "170            62367.55           2047650.0  -0.241754  \n",
       "171            78215.85           2463750.0   0.049629  \n",
       "172            54122.20           1888510.0   2.436420  \n",
       "173            71700.60           2298770.0   0.525810  \n",
       "\n",
       "[174 rows x 10 columns]"
      ]
     },
     "execution_count": 30,
     "metadata": {},
     "output_type": "execute_result"
    }
   ],
   "source": [
    "#jointure entre la population et le dtaframe df1 \n",
    "df3=pd.merge(animal_vegetal,df_pop, on=['Zone'])\n",
    "df3"
   ]
  },
  {
   "cell_type": "code",
   "execution_count": 31,
   "id": "b2aba5d6",
   "metadata": {},
   "outputs": [],
   "source": [
    "# On supprime les dataframes population et bilan_alim pour éviter d'avoir des doublons\n",
    "del animal_vegetal\n",
    "del population"
   ]
  },
  {
   "cell_type": "code",
   "execution_count": null,
   "id": "6b2d4d58",
   "metadata": {},
   "outputs": [],
   "source": []
  },
  {
   "cell_type": "code",
   "execution_count": 32,
   "id": "50fc1c3c",
   "metadata": {},
   "outputs": [
    {
     "data": {
      "text/plain": [
       "KstestResult(statistic=0.0790919540229885, pvalue=0.29425328682332363)"
      ]
     },
     "execution_count": 32,
     "metadata": {},
     "output_type": "execute_result"
    }
   ],
   "source": [
    "ks_2samp(df3[\"dispo_kcal_hab_ans\"],list(np.random.normal(np.mean(df3[\"dispo_kcal_hab_ans\"]), np.std(df3[\"dispo_kcal_hab_ans\"]), 1000)))"
   ]
  },
  {
   "cell_type": "code",
   "execution_count": 33,
   "id": "5545868d",
   "metadata": {},
   "outputs": [
    {
     "data": {
      "image/png": "[encoded data removed]",
      "text/plain": [
       "<Figure size 1080x1080 with 1 Axes>"
      ]
     },
     "metadata": {
      "needs_background": "light"
     },
     "output_type": "display_data"
    }
   ],
   "source": [
    "#Test de loi normal\n",
    "\n",
    "plt.figure(figsize = (15,15))\n",
    "\n",
    "sns.histplot(df3[\"dispo_prot_hab_ans\"],\n",
    "                  kde=True,\n",
    "                  color='skyblue',\n",
    "                  )\n",
    "plt.axvline(x=df3['dispo_prot_hab_ans'].mean(), label='Moyenne', linestyle='-', linewidth=2)\n",
    "plt.axvline(x=df3['dispo_prot_hab_ans'].median(), label='Médiane', linestyle='--', linewidth=2)\n",
    "plt.xlabel('dispo_prot_hab_ans')\n",
    "plt.ylabel('Fréquence')\n",
    "plt.title('Répartition de la disponibilité alimentaire en prot/ans ')\n",
    "plt.legend()\n",
    "plt.show()"
   ]
  },
  {
   "cell_type": "code",
   "execution_count": 34,
   "id": "6cc35dc7",
   "metadata": {},
   "outputs": [
    {
     "data": {
      "text/plain": [
       "KstestResult(statistic=0.06262068965517241, pvalue=0.5813189182645813)"
      ]
     },
     "execution_count": 34,
     "metadata": {},
     "output_type": "execute_result"
    }
   ],
   "source": [
    "ks_2samp(df3[\"dispo_prot_hab_ans\"],list(np.random.normal(np.mean(df3[\"dispo_prot_hab_ans\"]), np.std(df3[\"dispo_prot_hab_ans\"]), 1000)))"
   ]
  },
  {
   "cell_type": "code",
   "execution_count": null,
   "id": "ea038e7d",
   "metadata": {},
   "outputs": [],
   "source": []
  },
  {
   "cell_type": "code",
   "execution_count": 35,
   "id": "e89a39b1",
   "metadata": {},
   "outputs": [
    {
     "data": {
      "image/png": "[encoded data removed]",
      "text/plain": [
       "<Figure size 1080x1080 with 1 Axes>"
      ]
     },
     "metadata": {
      "needs_background": "light"
     },
     "output_type": "display_data"
    }
   ],
   "source": [
    "#Test de loi normal\n",
    "\n",
    "plt.figure(figsize = (15,15))\n",
    "\n",
    "sns.histplot(df3[\"%prot_anim_prot_tot\"],\n",
    "                  kde=True,\n",
    "                  color='skyblue',\n",
    "                  )\n",
    "plt.axvline(x=df3['%prot_anim_prot_tot'].mean(), label='Moyenne', linestyle='-', linewidth=2)\n",
    "plt.axvline(x=df3['%prot_anim_prot_tot'].median(), label='Médiane', linestyle='--', linewidth=2)\n",
    "plt.xlabel('%prot_anim_prot_tot')\n",
    "plt.ylabel('Fréquence')\n",
    "plt.title('Répartition du %prot_anim_prot_tot')\n",
    "plt.legend()\n",
    "plt.show()"
   ]
  },
  {
   "cell_type": "code",
   "execution_count": 36,
   "id": "2f5530dd",
   "metadata": {},
   "outputs": [
    {
     "data": {
      "text/plain": [
       "KstestResult(statistic=0.08685057471264368, pvalue=0.20004596103829997)"
      ]
     },
     "execution_count": 36,
     "metadata": {},
     "output_type": "execute_result"
    }
   ],
   "source": [
    "ks_2samp(df3[\"%prot_anim_prot_tot\"],list(np.random.normal(np.mean(df3[\"%prot_anim_prot_tot\"]), np.std(df3[\"%prot_anim_prot_tot\"]), 1000)))"
   ]
  },
  {
   "cell_type": "code",
   "execution_count": null,
   "id": "0d54d8ae",
   "metadata": {},
   "outputs": [],
   "source": []
  },
  {
   "cell_type": "code",
   "execution_count": 37,
   "id": "b1d05dc0",
   "metadata": {},
   "outputs": [
    {
     "data": {
      "image/png": "[encoded data removed]",
      "text/plain": [
       "<Figure size 1080x1080 with 1 Axes>"
      ]
     },
     "metadata": {
      "needs_background": "light"
     },
     "output_type": "display_data"
    }
   ],
   "source": [
    "#Test de loi normal\n",
    "\n",
    "plt.figure(figsize = (15,15))\n",
    "\n",
    "sns.histplot(df3[\"pop_ratio\"],\n",
    "                  kde=True,\n",
    "                  color='skyblue',\n",
    "                  )\n",
    "plt.axvline(x=df3['pop_ratio'].mean(), label='Moyenne', linestyle='-', linewidth=2)\n",
    "plt.axvline(x=df3['pop_ratio'].median(), label='Médiane', linestyle='--', linewidth=2)\n",
    "plt.xlabel('pop_ratio')\n",
    "plt.ylabel('Fréquence')\n",
    "plt.title('Répartition de la croissance démographique')\n",
    "plt.legend()\n",
    "plt.show()"
   ]
  },
  {
   "cell_type": "code",
   "execution_count": 38,
   "id": "9b74f1d3",
   "metadata": {},
   "outputs": [
    {
     "data": {
      "text/plain": [
       "KstestResult(statistic=0.06855172413793104, pvalue=0.46609214070122607)"
      ]
     },
     "execution_count": 38,
     "metadata": {},
     "output_type": "execute_result"
    }
   ],
   "source": [
    "ks_2samp(df3[\"pop_ratio\"],list(np.random.normal(np.mean(df3[\"pop_ratio\"]), np.std(df3[\"pop_ratio\"]), 1000)))"
   ]
  },
  {
   "cell_type": "code",
   "execution_count": null,
   "id": "25797f87",
   "metadata": {},
   "outputs": [],
   "source": []
  },
  {
   "cell_type": "code",
   "execution_count": 39,
   "id": "77f61624",
   "metadata": {},
   "outputs": [],
   "source": [
    "df5=df3[['Zone','%prot_anim_prot_tot','dispo_prot_hab_ans','dispo_kcal_hab_ans','pop_ratio']]"
   ]
  },
  {
   "cell_type": "code",
   "execution_count": 40,
   "id": "3d8051b0",
   "metadata": {},
   "outputs": [
    {
     "data": {
      "image/png": "[encoded data removed]",
      "text/plain": [
       "<Figure size 1440x1800 with 1 Axes>"
      ]
     },
     "metadata": {
      "needs_background": "light"
     },
     "output_type": "display_data"
    }
   ],
   "source": [
    "#classification hierarchique\n",
    "\n",
    "#Transformation en array Numpy\n",
    "#Indexation selon les pays par la fonction .set_index()\n",
    "df5.set_index('Zone', inplace=True)\n",
    "X = df5.values\n",
    "\n",
    "\n",
    "# préparation des données pour le clustering\n",
    "X = df5.values\n",
    "names = df5.index\n",
    "\n",
    "# Centrage et Réduction\n",
    "std_scale = preprocessing.StandardScaler().fit(X)\n",
    "X_scaled = std_scale.transform(X)\n",
    "\n",
    "# Clustering hiérarchique\n",
    "Z = linkage(X_scaled, method='ward')\n",
    "\n",
    "# Affichage du dendrogramme\n",
    "plt.figure(figsize=(20,25))\n",
    "dendrogram(Z,\n",
    "        labels = names,\n",
    "        orientation = \"top\")\n",
    "plt.title('Dendrogramme hiérarchique de classification')\n",
    "plt.xlabel('distance')\n",
    "\n",
    "\n",
    "plt.show()\n",
    "\n"
   ]
  },
  {
   "cell_type": "code",
   "execution_count": 41,
   "id": "57ed0edb",
   "metadata": {},
   "outputs": [],
   "source": [
    "#Coupage du dendrogramme en 5 clusters\n",
    "#fig = plt.figure(figsize=(30,10))\n",
    "#plt.title('Hierarchical Clustering Dendrogram - 5 clusters', fontsize=20)\n",
    "#plt.xlabel('distance', fontsize=15)\n",
    "\n",
    "#dendrogram(Z, labels = df5.index, p=5, truncate_mode='lastp', orientation='right')\n",
    "#plt.show()"
   ]
  },
  {
   "cell_type": "code",
   "execution_count": 42,
   "id": "f91721b8",
   "metadata": {},
   "outputs": [],
   "source": [
    "# On récupère les données du dendrogramme\n",
    "# puis on crée un DataFrame avec la liste des pays associée à leur cluster\n",
    "\n",
    "cluster = fcluster(Z, t=5, criterion='maxclust')\n",
    "data_cluster = pd.DataFrame({'Zone' : df5.index.tolist(),\n",
    "                             'Pays_cluster' : cluster})\n",
    "data_cluster = data_cluster.sort_values(['Pays_cluster', 'Zone'])\n",
    "data_cluster.to_csv('P5_03_listespays.csv')"
   ]
  },
  {
   "cell_type": "code",
   "execution_count": 43,
   "id": "598d8474",
   "metadata": {
    "scrolled": false
   },
   "outputs": [
    {
     "data": {
      "text/html": [
       "<div>\n",
       "<style scoped>\n",
       "    .dataframe tbody tr th:only-of-type {\n",
       "        vertical-align: middle;\n",
       "    }\n",
       "\n",
       "    .dataframe tbody tr th {\n",
       "        vertical-align: top;\n",
       "    }\n",
       "\n",
       "    .dataframe thead th {\n",
       "        text-align: right;\n",
       "    }\n",
       "</style>\n",
       "<table border=\"1\" class=\"dataframe\">\n",
       "  <thead>\n",
       "    <tr style=\"text-align: right;\">\n",
       "      <th></th>\n",
       "      <th>Zone</th>\n",
       "      <th>Pays_cluster</th>\n",
       "    </tr>\n",
       "  </thead>\n",
       "  <tbody>\n",
       "    <tr>\n",
       "      <th>1</th>\n",
       "      <td>Afghanistan</td>\n",
       "      <td>1</td>\n",
       "    </tr>\n",
       "    <tr>\n",
       "      <th>4</th>\n",
       "      <td>Angola</td>\n",
       "      <td>1</td>\n",
       "    </tr>\n",
       "    <tr>\n",
       "      <th>159</th>\n",
       "      <td>Burkina Faso</td>\n",
       "      <td>1</td>\n",
       "    </tr>\n",
       "    <tr>\n",
       "      <th>33</th>\n",
       "      <td>Bénin</td>\n",
       "      <td>1</td>\n",
       "    </tr>\n",
       "    <tr>\n",
       "      <th>19</th>\n",
       "      <td>Cameroun</td>\n",
       "      <td>1</td>\n",
       "    </tr>\n",
       "    <tr>\n",
       "      <th>...</th>\n",
       "      <td>...</td>\n",
       "      <td>...</td>\n",
       "    </tr>\n",
       "    <tr>\n",
       "      <th>143</th>\n",
       "      <td>Suède</td>\n",
       "      <td>5</td>\n",
       "    </tr>\n",
       "    <tr>\n",
       "      <th>116</th>\n",
       "      <td>Tchéquie</td>\n",
       "      <td>5</td>\n",
       "    </tr>\n",
       "    <tr>\n",
       "      <th>160</th>\n",
       "      <td>Uruguay</td>\n",
       "      <td>5</td>\n",
       "    </tr>\n",
       "    <tr>\n",
       "      <th>154</th>\n",
       "      <td>Émirats arabes unis</td>\n",
       "      <td>5</td>\n",
       "    </tr>\n",
       "    <tr>\n",
       "      <th>158</th>\n",
       "      <td>États-Unis d'Amérique</td>\n",
       "      <td>5</td>\n",
       "    </tr>\n",
       "  </tbody>\n",
       "</table>\n",
       "<p>174 rows × 2 columns</p>\n",
       "</div>"
      ],
      "text/plain": [
       "                      Zone  Pays_cluster\n",
       "1              Afghanistan             1\n",
       "4                   Angola             1\n",
       "159           Burkina Faso             1\n",
       "33                   Bénin             1\n",
       "19                Cameroun             1\n",
       "..                     ...           ...\n",
       "143                  Suède             5\n",
       "116               Tchéquie             5\n",
       "160                Uruguay             5\n",
       "154    Émirats arabes unis             5\n",
       "158  États-Unis d'Amérique             5\n",
       "\n",
       "[174 rows x 2 columns]"
      ]
     },
     "execution_count": 43,
     "metadata": {},
     "output_type": "execute_result"
    }
   ],
   "source": [
    "data_cluster"
   ]
  },
  {
   "cell_type": "code",
   "execution_count": 44,
   "id": "db249a09",
   "metadata": {},
   "outputs": [],
   "source": [
    "# On crée les différents composants nécessaires à l'ACP\n",
    "n_comp = 4\n",
    "data_pca = df5[['dispo_kcal_hab_ans','dispo_prot_hab_ans','%prot_anim_prot_tot','pop_ratio']]\n",
    "\n",
    "X = df5.values\n",
    "names = df5.index\n",
    "features = df5.columns"
   ]
  },
  {
   "cell_type": "code",
   "execution_count": 45,
   "id": "8b1dedb2",
   "metadata": {},
   "outputs": [],
   "source": [
    "# On prépare les données en faisant une normalisation (centrage-réduction)\n",
    "std_scale = preprocessing.StandardScaler().fit(X)\n",
    "X_scaled = std_scale.transform(X)"
   ]
  },
  {
   "cell_type": "code",
   "execution_count": 46,
   "id": "f6793399",
   "metadata": {},
   "outputs": [
    {
     "data": {
      "text/plain": [
       "PCA(n_components=4)"
      ]
     },
     "execution_count": 46,
     "metadata": {},
     "output_type": "execute_result"
    }
   ],
   "source": [
    "# On applique l'ACP sur nos données transformées\n",
    "pca = decomposition.PCA(n_components=n_comp)\n",
    "pca.fit(X_scaled)"
   ]
  },
  {
   "cell_type": "code",
   "execution_count": 47,
   "id": "a171cb46",
   "metadata": {},
   "outputs": [
    {
     "data": {
      "image/png": "[encoded data removed]",
      "text/plain": [
       "<Figure size 720x720 with 1 Axes>"
      ]
     },
     "metadata": {
      "needs_background": "light"
     },
     "output_type": "display_data"
    }
   ],
   "source": [
    "# On affiche l'éboulis des valeurs propres\n",
    "# On pourra voir le pourcentage d'inertie pour chaque composante\n",
    "\n",
    "fig, ax = plt.subplots(figsize=(10,10))\n",
    "scree = pca.explained_variance_ratio_*100\n",
    "plt.bar(np.arange(len(scree))+1, scree, color='gray')\n",
    "plt.plot(np.arange(len(scree))+1, scree.cumsum(),marker='o', color='r')\n",
    "plt.xlabel(\"Rang de l'axe d'inertie\")\n",
    "plt.ylabel(\"Pourcentage d'inertie\")\n",
    "plt.title(\"Eboulis des valeurs propres\")\n",
    "plt.show(block=False)"
   ]
  },
  {
   "cell_type": "code",
   "execution_count": 48,
   "id": "92d2ccc5",
   "metadata": {
    "scrolled": false
   },
   "outputs": [
    {
     "data": {
      "image/png": "[encoded data removed]",
      "text/plain": [
       "<Figure size 720x720 with 1 Axes>"
      ]
     },
     "metadata": {
      "needs_background": "light"
     },
     "output_type": "display_data"
    }
   ],
   "source": [
    "# Cercle des corrélations\n",
    "pcs = pca.components_\n",
    "display_circles(pcs, n_comp, pca, [(0,1)], labels = np.array(features))\n",
    "\n"
   ]
  },
  {
   "cell_type": "code",
   "execution_count": 49,
   "id": "616dc7d7",
   "metadata": {},
   "outputs": [],
   "source": [
    "df5=pd.merge(df5,data_cluster, on='Zone')\n",
    "Pays=df5[\"Pays_cluster\"]"
   ]
  },
  {
   "cell_type": "code",
   "execution_count": 50,
   "id": "325f3ce9",
   "metadata": {
    "scrolled": true
   },
   "outputs": [
    {
     "data": {
      "text/html": [
       "<div>\n",
       "<style scoped>\n",
       "    .dataframe tbody tr th:only-of-type {\n",
       "        vertical-align: middle;\n",
       "    }\n",
       "\n",
       "    .dataframe tbody tr th {\n",
       "        vertical-align: top;\n",
       "    }\n",
       "\n",
       "    .dataframe thead th {\n",
       "        text-align: right;\n",
       "    }\n",
       "</style>\n",
       "<table border=\"1\" class=\"dataframe\">\n",
       "  <thead>\n",
       "    <tr style=\"text-align: right;\">\n",
       "      <th></th>\n",
       "      <th>Zone</th>\n",
       "      <th>%prot_anim_prot_tot</th>\n",
       "      <th>dispo_prot_hab_ans</th>\n",
       "      <th>dispo_kcal_hab_ans</th>\n",
       "      <th>pop_ratio</th>\n",
       "      <th>Pays_cluster</th>\n",
       "    </tr>\n",
       "  </thead>\n",
       "  <tbody>\n",
       "    <tr>\n",
       "      <th>0</th>\n",
       "      <td>Arménie</td>\n",
       "      <td>46.53</td>\n",
       "      <td>71182.30</td>\n",
       "      <td>2238910.0</td>\n",
       "      <td>0.451310</td>\n",
       "      <td>5</td>\n",
       "    </tr>\n",
       "    <tr>\n",
       "      <th>1</th>\n",
       "      <td>Afghanistan</td>\n",
       "      <td>20.83</td>\n",
       "      <td>42467.75</td>\n",
       "      <td>1529715.0</td>\n",
       "      <td>3.124915</td>\n",
       "      <td>1</td>\n",
       "    </tr>\n",
       "    <tr>\n",
       "      <th>2</th>\n",
       "      <td>Albanie</td>\n",
       "      <td>51.30</td>\n",
       "      <td>79971.50</td>\n",
       "      <td>2382720.0</td>\n",
       "      <td>-0.199979</td>\n",
       "      <td>5</td>\n",
       "    </tr>\n",
       "    <tr>\n",
       "      <th>3</th>\n",
       "      <td>Algérie</td>\n",
       "      <td>29.24</td>\n",
       "      <td>69262.40</td>\n",
       "      <td>2463020.0</td>\n",
       "      <td>2.066436</td>\n",
       "      <td>3</td>\n",
       "    </tr>\n",
       "    <tr>\n",
       "      <th>4</th>\n",
       "      <td>Angola</td>\n",
       "      <td>38.46</td>\n",
       "      <td>42277.95</td>\n",
       "      <td>1764045.0</td>\n",
       "      <td>3.498663</td>\n",
       "      <td>1</td>\n",
       "    </tr>\n",
       "    <tr>\n",
       "      <th>...</th>\n",
       "      <td>...</td>\n",
       "      <td>...</td>\n",
       "      <td>...</td>\n",
       "      <td>...</td>\n",
       "      <td>...</td>\n",
       "      <td>...</td>\n",
       "    </tr>\n",
       "    <tr>\n",
       "      <th>169</th>\n",
       "      <td>Luxembourg</td>\n",
       "      <td>61.64</td>\n",
       "      <td>81449.75</td>\n",
       "      <td>2550620.0</td>\n",
       "      <td>2.204625</td>\n",
       "      <td>5</td>\n",
       "    </tr>\n",
       "    <tr>\n",
       "      <th>170</th>\n",
       "      <td>Serbie</td>\n",
       "      <td>51.08</td>\n",
       "      <td>62367.55</td>\n",
       "      <td>2047650.0</td>\n",
       "      <td>-0.241754</td>\n",
       "      <td>4</td>\n",
       "    </tr>\n",
       "    <tr>\n",
       "      <th>171</th>\n",
       "      <td>Monténégro</td>\n",
       "      <td>60.09</td>\n",
       "      <td>78215.85</td>\n",
       "      <td>2463750.0</td>\n",
       "      <td>0.049629</td>\n",
       "      <td>5</td>\n",
       "    </tr>\n",
       "    <tr>\n",
       "      <th>172</th>\n",
       "      <td>Soudan</td>\n",
       "      <td>29.08</td>\n",
       "      <td>54122.20</td>\n",
       "      <td>1888510.0</td>\n",
       "      <td>2.436420</td>\n",
       "      <td>2</td>\n",
       "    </tr>\n",
       "    <tr>\n",
       "      <th>173</th>\n",
       "      <td>Chine</td>\n",
       "      <td>40.04</td>\n",
       "      <td>71700.60</td>\n",
       "      <td>2298770.0</td>\n",
       "      <td>0.525810</td>\n",
       "      <td>5</td>\n",
       "    </tr>\n",
       "  </tbody>\n",
       "</table>\n",
       "<p>174 rows × 6 columns</p>\n",
       "</div>"
      ],
      "text/plain": [
       "            Zone  %prot_anim_prot_tot  dispo_prot_hab_ans  dispo_kcal_hab_ans  \\\n",
       "0        Arménie                46.53            71182.30           2238910.0   \n",
       "1    Afghanistan                20.83            42467.75           1529715.0   \n",
       "2        Albanie                51.30            79971.50           2382720.0   \n",
       "3        Algérie                29.24            69262.40           2463020.0   \n",
       "4         Angola                38.46            42277.95           1764045.0   \n",
       "..           ...                  ...                 ...                 ...   \n",
       "169   Luxembourg                61.64            81449.75           2550620.0   \n",
       "170       Serbie                51.08            62367.55           2047650.0   \n",
       "171   Monténégro                60.09            78215.85           2463750.0   \n",
       "172       Soudan                29.08            54122.20           1888510.0   \n",
       "173        Chine                40.04            71700.60           2298770.0   \n",
       "\n",
       "     pop_ratio  Pays_cluster  \n",
       "0     0.451310             5  \n",
       "1     3.124915             1  \n",
       "2    -0.199979             5  \n",
       "3     2.066436             3  \n",
       "4     3.498663             1  \n",
       "..         ...           ...  \n",
       "169   2.204625             5  \n",
       "170  -0.241754             4  \n",
       "171   0.049629             5  \n",
       "172   2.436420             2  \n",
       "173   0.525810             5  \n",
       "\n",
       "[174 rows x 6 columns]"
      ]
     },
     "execution_count": 50,
     "metadata": {},
     "output_type": "execute_result"
    }
   ],
   "source": [
    "df5"
   ]
  },
  {
   "cell_type": "code",
   "execution_count": 51,
   "id": "1dea3377",
   "metadata": {},
   "outputs": [
    {
     "data": {
      "image/png": "[encoded data removed]",
      "text/plain": [
       "<Figure size 720x720 with 1 Axes>"
      ]
     },
     "metadata": {
      "needs_background": "light"
     },
     "output_type": "display_data"
    }
   ],
   "source": [
    "# Projection des individus\n",
    "X_projected = pca.transform(X_scaled)\n",
    "display_factorial_planes(X_projected, n_comp, pca, [(0,1)], illustrative_var = Pays , alpha = 0.5)\n",
    "\n",
    "plt.show()\n",
    "plt.show()"
   ]
  },
  {
   "cell_type": "code",
   "execution_count": 52,
   "id": "a7500905",
   "metadata": {},
   "outputs": [
    {
     "data": {
      "image/png": "[encoded data removed]",
      "text/plain": [
       "<Figure size 720x720 with 1 Axes>"
      ]
     },
     "metadata": {
      "needs_background": "light"
     },
     "output_type": "display_data"
    }
   ],
   "source": [
    "#Projection des centroides des clusters sur nos 2 composantes\n",
    "\n",
    "\n",
    "df_centro = df5.groupby('Pays_cluster').mean()\n",
    "\n",
    "X = df_centro.values\n",
    "std_scale = preprocessing.StandardScaler().fit(X)\n",
    "X_scaled = std_scale.transform(X)\n",
    "\n",
    "# Projection des points dans le premier plan factoriel\n",
    "X_projected = pca.transform(X_scaled)\n",
    "display_factorial_planes(X_projected, n_comp, pca, [(0,1)], illustrative_var=df_centro.index)"
   ]
  },
  {
   "cell_type": "code",
   "execution_count": 53,
   "id": "546ea003",
   "metadata": {},
   "outputs": [
    {
     "data": {
      "text/plain": [
       "5    45\n",
       "4    41\n",
       "2    38\n",
       "1    30\n",
       "3    20\n",
       "Name: Pays_cluster, dtype: int64"
      ]
     },
     "execution_count": 53,
     "metadata": {},
     "output_type": "execute_result"
    }
   ],
   "source": [
    "df5['Pays_cluster'].value_counts()"
   ]
  },
  {
   "cell_type": "code",
   "execution_count": null,
   "id": "7c9f8bf3",
   "metadata": {},
   "outputs": [],
   "source": []
  },
  {
   "cell_type": "code",
   "execution_count": null,
   "id": "62232e0b",
   "metadata": {},
   "outputs": [],
   "source": []
  },
  {
   "cell_type": "code",
   "execution_count": 54,
   "id": "82cbe722",
   "metadata": {},
   "outputs": [],
   "source": [
    "# la position des centroïdes\n",
    "c_centroid = pd.DataFrame(X_scaled, columns=df_centro.columns, index=df_centro.index)\n",
    "c_centroid.to_csv('P5_04_coordonneescentroide.csv')"
   ]
  },
  {
   "cell_type": "code",
   "execution_count": 55,
   "id": "89cd33fe",
   "metadata": {
    "scrolled": true
   },
   "outputs": [
    {
     "data": {
      "text/html": [
       "<div>\n",
       "<style scoped>\n",
       "    .dataframe tbody tr th:only-of-type {\n",
       "        vertical-align: middle;\n",
       "    }\n",
       "\n",
       "    .dataframe tbody tr th {\n",
       "        vertical-align: top;\n",
       "    }\n",
       "\n",
       "    .dataframe thead th {\n",
       "        text-align: right;\n",
       "    }\n",
       "</style>\n",
       "<table border=\"1\" class=\"dataframe\">\n",
       "  <thead>\n",
       "    <tr style=\"text-align: right;\">\n",
       "      <th></th>\n",
       "      <th>dispo_prot_hab_ans</th>\n",
       "      <th>dispo_kcal_hab_ans</th>\n",
       "      <th>%prot_anim_prot_tot</th>\n",
       "      <th>pop_ratio</th>\n",
       "    </tr>\n",
       "    <tr>\n",
       "      <th>Pays_cluster</th>\n",
       "      <th></th>\n",
       "      <th></th>\n",
       "      <th></th>\n",
       "      <th></th>\n",
       "    </tr>\n",
       "  </thead>\n",
       "  <tbody>\n",
       "    <tr>\n",
       "      <th>1</th>\n",
       "      <td>43187.043333</td>\n",
       "      <td>1.731122e+06</td>\n",
       "      <td>21.695667</td>\n",
       "      <td>2.861073</td>\n",
       "    </tr>\n",
       "    <tr>\n",
       "      <th>2</th>\n",
       "      <td>45132.826316</td>\n",
       "      <td>1.782189e+06</td>\n",
       "      <td>34.947368</td>\n",
       "      <td>1.391496</td>\n",
       "    </tr>\n",
       "    <tr>\n",
       "      <th>3</th>\n",
       "      <td>65988.715000</td>\n",
       "      <td>2.241556e+06</td>\n",
       "      <td>37.986000</td>\n",
       "      <td>2.626569</td>\n",
       "    </tr>\n",
       "    <tr>\n",
       "      <th>4</th>\n",
       "      <td>60682.852439</td>\n",
       "      <td>2.095367e+06</td>\n",
       "      <td>52.623171</td>\n",
       "      <td>0.589999</td>\n",
       "    </tr>\n",
       "    <tr>\n",
       "      <th>5</th>\n",
       "      <td>76869.324444</td>\n",
       "      <td>2.454901e+06</td>\n",
       "      <td>56.667333</td>\n",
       "      <td>0.381290</td>\n",
       "    </tr>\n",
       "  </tbody>\n",
       "</table>\n",
       "</div>"
      ],
      "text/plain": [
       "              dispo_prot_hab_ans  dispo_kcal_hab_ans  %prot_anim_prot_tot  \\\n",
       "Pays_cluster                                                                \n",
       "1                   43187.043333        1.731122e+06            21.695667   \n",
       "2                   45132.826316        1.782189e+06            34.947368   \n",
       "3                   65988.715000        2.241556e+06            37.986000   \n",
       "4                   60682.852439        2.095367e+06            52.623171   \n",
       "5                   76869.324444        2.454901e+06            56.667333   \n",
       "\n",
       "              pop_ratio  \n",
       "Pays_cluster             \n",
       "1              2.861073  \n",
       "2              1.391496  \n",
       "3              2.626569  \n",
       "4              0.589999  \n",
       "5              0.381290  "
      ]
     },
     "execution_count": 55,
     "metadata": {},
     "output_type": "execute_result"
    }
   ],
   "source": [
    "#Comparaison des clusters par moyennes selon les differents critères\n",
    "\n",
    "df_com = pd.pivot_table(df5, columns='Pays_cluster', aggfunc=np.mean).transpose()\n",
    "df_com= df_com[['dispo_prot_hab_ans','dispo_kcal_hab_ans','%prot_anim_prot_tot','pop_ratio']]\n",
    "df_com"
   ]
  },
  {
   "cell_type": "code",
   "execution_count": 56,
   "id": "7eeed620",
   "metadata": {},
   "outputs": [
    {
     "data": {
      "image/png": "[encoded data removed]",
      "text/plain": [
       "<Figure size 720x720 with 1 Axes>"
      ]
     },
     "metadata": {
      "needs_background": "light"
     },
     "output_type": "display_data"
    }
   ],
   "source": [
    "plt.figure(figsize=(10,10))\n",
    "\n",
    "sns.boxplot(x='Pays_cluster', y='%prot_anim_prot_tot', data=df5)\n",
    "plt.xlabel('Clusters')\n",
    "plt.ylabel('Proportion de protéines animales  disponible')\n",
    "plt.title('Proportion de protéines animales en fonction des clusters de pays')\n",
    "\n",
    "\n",
    "plt.show()"
   ]
  },
  {
   "cell_type": "code",
   "execution_count": 57,
   "id": "88b8e99d",
   "metadata": {},
   "outputs": [],
   "source": [
    "#Hypothese a verifier pour l\"gélaiter des variance entre  les deux clusters pour la proteine\n",
    "#Les medianes sont different je vais le confirmer avec le test des comparaison des distributions"
   ]
  },
  {
   "cell_type": "code",
   "execution_count": 58,
   "id": "6704fb5b",
   "metadata": {},
   "outputs": [
    {
     "data": {
      "text/plain": [
       "BartlettResult(statistic=4.205810682782795, pvalue=0.040285713979390694)"
      ]
     },
     "execution_count": 58,
     "metadata": {},
     "output_type": "execute_result"
    }
   ],
   "source": [
    "#Estce aue les variances sont egales\n",
    "cluster1 = df5[df5[\"Pays_cluster\"]==1][\"%prot_anim_prot_tot\"]\n",
    "cluster2 = df5[df5[\"Pays_cluster\"]==2][\"%prot_anim_prot_tot\"]\n",
    "st.stats.bartlett(cluster1,cluster2)"
   ]
  },
  {
   "cell_type": "code",
   "execution_count": 59,
   "id": "bf22cb29",
   "metadata": {},
   "outputs": [
    {
     "data": {
      "text/plain": [
       "Ttest_indResult(statistic=-6.075580359500585, pvalue=7.196863142898534e-08)"
      ]
     },
     "execution_count": 59,
     "metadata": {},
     "output_type": "execute_result"
    }
   ],
   "source": [
    "#Test egalité des moyennes \n",
    "st.stats.ttest_ind(cluster1,cluster2, equal_var=False)"
   ]
  },
  {
   "cell_type": "code",
   "execution_count": null,
   "id": "1a3d9464",
   "metadata": {},
   "outputs": [],
   "source": []
  },
  {
   "cell_type": "code",
   "execution_count": 60,
   "id": "a5b99309",
   "metadata": {},
   "outputs": [
    {
     "data": {
      "image/png": "[encoded data removed]",
      "text/plain": [
       "<Figure size 720x720 with 1 Axes>"
      ]
     },
     "metadata": {
      "needs_background": "light"
     },
     "output_type": "display_data"
    }
   ],
   "source": [
    "plt.figure(figsize=(10,10))\n",
    "\n",
    "sns.boxplot(x='Pays_cluster', y='pop_ratio', data=df5)\n",
    "plt.xlabel('Clusters')\n",
    "plt.ylabel('Croissance ratio populationen %')\n",
    "plt.title('Croissance population entre 2014 et 2015')\n",
    "\n",
    "\n",
    "plt.show()"
   ]
  },
  {
   "cell_type": "code",
   "execution_count": 61,
   "id": "42a8db68",
   "metadata": {},
   "outputs": [],
   "source": [
    "#Hypothese a verifier pour legalité des variance entre  les deux clusters pour la croissance de la population\n"
   ]
  },
  {
   "cell_type": "code",
   "execution_count": 62,
   "id": "11ceb8d1",
   "metadata": {},
   "outputs": [
    {
     "data": {
      "text/plain": [
       "BartlettResult(statistic=7.535405990442924, pvalue=0.006049810314901918)"
      ]
     },
     "execution_count": 62,
     "metadata": {},
     "output_type": "execute_result"
    }
   ],
   "source": [
    "\n",
    "clust1 = df5[df5[\"Pays_cluster\"]==1][\"pop_ratio\"]\n",
    "clust2 = df5[df5[\"Pays_cluster\"]==2][\"pop_ratio\"]\n",
    "st.stats.bartlett(clust1,clust2)"
   ]
  },
  {
   "cell_type": "code",
   "execution_count": 63,
   "id": "cb5cb21c",
   "metadata": {},
   "outputs": [
    {
     "data": {
      "text/plain": [
       "Ttest_indResult(statistic=11.991343339919343, pvalue=8.122470670224452e-18)"
      ]
     },
     "execution_count": 63,
     "metadata": {},
     "output_type": "execute_result"
    }
   ],
   "source": [
    "st.stats.ttest_ind(clust1,clust2, equal_var=False)"
   ]
  },
  {
   "cell_type": "code",
   "execution_count": null,
   "id": "992d0b5e",
   "metadata": {},
   "outputs": [],
   "source": [
    "\n"
   ]
  },
  {
   "cell_type": "code",
   "execution_count": 64,
   "id": "9d9effeb",
   "metadata": {},
   "outputs": [
    {
     "data": {
      "image/png": "[encoded data removed]",
      "text/plain": [
       "<Figure size 720x720 with 1 Axes>"
      ]
     },
     "metadata": {
      "needs_background": "light"
     },
     "output_type": "display_data"
    }
   ],
   "source": [
    "plt.figure(figsize=(10,10))\n",
    "\n",
    "sns.boxplot(x='Pays_cluster', y='dispo_prot_hab_ans', data=df5)\n",
    "plt.xlabel('Clusters')\n",
    "plt.ylabel('Disponibilité de prot par habitant')\n",
    "plt.title('Disponibilité de prot par habitant en fonction des clusters de pays')\n",
    "plt.show()"
   ]
  },
  {
   "cell_type": "code",
   "execution_count": 65,
   "id": "6bd2c1ae",
   "metadata": {},
   "outputs": [
    {
     "data": {
      "text/plain": [
       "BartlettResult(statistic=0.03885286226204333, pvalue=0.8437404453987118)"
      ]
     },
     "execution_count": 65,
     "metadata": {},
     "output_type": "execute_result"
    }
   ],
   "source": [
    "cluster1 = df5[df5[\"Pays_cluster\"]==1][\"dispo_prot_hab_ans\"]\n",
    "cluster2 = df5[df5[\"Pays_cluster\"]==2][\"dispo_prot_hab_ans\"]\n",
    "st.stats.bartlett(cluster1,cluster2)"
   ]
  },
  {
   "cell_type": "code",
   "execution_count": 66,
   "id": "a44ba27c",
   "metadata": {},
   "outputs": [
    {
     "data": {
      "text/plain": [
       "Ttest_indResult(statistic=-1.2051343719720196, pvalue=0.2324547510271783)"
      ]
     },
     "execution_count": 66,
     "metadata": {},
     "output_type": "execute_result"
    }
   ],
   "source": [
    "#Test de student\n",
    "st.stats.ttest_ind(cluster1,cluster2, equal_var=True)"
   ]
  },
  {
   "cell_type": "code",
   "execution_count": null,
   "id": "0b951990",
   "metadata": {},
   "outputs": [],
   "source": []
  },
  {
   "cell_type": "code",
   "execution_count": null,
   "id": "cf924578",
   "metadata": {},
   "outputs": [],
   "source": []
  },
  {
   "cell_type": "code",
   "execution_count": 67,
   "id": "145ffbfa",
   "metadata": {},
   "outputs": [
    {
     "data": {
      "image/png": "[encoded data removed]",
      "text/plain": [
       "<Figure size 720x720 with 1 Axes>"
      ]
     },
     "metadata": {
      "needs_background": "light"
     },
     "output_type": "display_data"
    }
   ],
   "source": [
    "plt.figure(figsize=(10,10))\n",
    "\n",
    "sns.boxplot(x='Pays_cluster', y='dispo_kcal_hab_ans', data=df5)\n",
    "plt.xlabel('Clusters')\n",
    "plt.ylabel('Disponibilité de kcal par habitant')\n",
    "plt.title('Disponibilité de kcal par habitant en fonction des clusters de pays')\n",
    "plt.show()"
   ]
  },
  {
   "cell_type": "code",
   "execution_count": 68,
   "id": "b0c048a5",
   "metadata": {},
   "outputs": [
    {
     "data": {
      "text/plain": [
       "BartlettResult(statistic=1.4211057170626133, pvalue=0.2332214932034723)"
      ]
     },
     "execution_count": 68,
     "metadata": {},
     "output_type": "execute_result"
    }
   ],
   "source": [
    "#Estce aue les variances sont egales\n",
    "cluster1 = df5[df5[\"Pays_cluster\"]==1][\"dispo_kcal_hab_ans\"]\n",
    "cluster2 = df5[df5[\"Pays_cluster\"]==2][\"dispo_kcal_hab_ans\"]\n",
    "st.stats.bartlett(cluster1,cluster2)"
   ]
  },
  {
   "cell_type": "code",
   "execution_count": 69,
   "id": "e6b5bbc8",
   "metadata": {},
   "outputs": [
    {
     "data": {
      "text/plain": [
       "Ttest_indResult(statistic=-0.9852227884955382, pvalue=0.3281127241087983)"
      ]
     },
     "execution_count": 69,
     "metadata": {},
     "output_type": "execute_result"
    }
   ],
   "source": [
    "#Test de student\n",
    "st.stats.ttest_ind(cluster1,cluster2, equal_var=True)"
   ]
  },
  {
   "cell_type": "code",
   "execution_count": null,
   "id": "c6ec5bdf",
   "metadata": {},
   "outputs": [],
   "source": []
  },
  {
   "cell_type": "code",
   "execution_count": 70,
   "id": "c1f8251b",
   "metadata": {},
   "outputs": [
    {
     "data": {
      "text/html": [
       "<div>\n",
       "<style scoped>\n",
       "    .dataframe tbody tr th:only-of-type {\n",
       "        vertical-align: middle;\n",
       "    }\n",
       "\n",
       "    .dataframe tbody tr th {\n",
       "        vertical-align: top;\n",
       "    }\n",
       "\n",
       "    .dataframe thead th {\n",
       "        text-align: right;\n",
       "    }\n",
       "</style>\n",
       "<table border=\"1\" class=\"dataframe\">\n",
       "  <thead>\n",
       "    <tr style=\"text-align: right;\">\n",
       "      <th></th>\n",
       "      <th>Zone</th>\n",
       "      <th>%prot_anim_prot_tot</th>\n",
       "      <th>dispo_prot_hab_ans</th>\n",
       "      <th>dispo_kcal_hab_ans</th>\n",
       "      <th>pop_ratio</th>\n",
       "      <th>Pays_cluster</th>\n",
       "    </tr>\n",
       "  </thead>\n",
       "  <tbody>\n",
       "    <tr>\n",
       "      <th>1</th>\n",
       "      <td>Afghanistan</td>\n",
       "      <td>20.83</td>\n",
       "      <td>42467.75</td>\n",
       "      <td>1529715.0</td>\n",
       "      <td>3.124915</td>\n",
       "      <td>1</td>\n",
       "    </tr>\n",
       "    <tr>\n",
       "      <th>3</th>\n",
       "      <td>Algérie</td>\n",
       "      <td>29.24</td>\n",
       "      <td>69262.40</td>\n",
       "      <td>2463020.0</td>\n",
       "      <td>2.066436</td>\n",
       "      <td>3</td>\n",
       "    </tr>\n",
       "    <tr>\n",
       "      <th>4</th>\n",
       "      <td>Angola</td>\n",
       "      <td>38.46</td>\n",
       "      <td>42277.95</td>\n",
       "      <td>1764045.0</td>\n",
       "      <td>3.498663</td>\n",
       "      <td>1</td>\n",
       "    </tr>\n",
       "    <tr>\n",
       "      <th>5</th>\n",
       "      <td>Antigua-et-Barbuda</td>\n",
       "      <td>64.34</td>\n",
       "      <td>58294.15</td>\n",
       "      <td>1753095.0</td>\n",
       "      <td>1.084678</td>\n",
       "      <td>4</td>\n",
       "    </tr>\n",
       "    <tr>\n",
       "      <th>9</th>\n",
       "      <td>Bahamas</td>\n",
       "      <td>67.70</td>\n",
       "      <td>61758.00</td>\n",
       "      <td>1925375.0</td>\n",
       "      <td>0.964026</td>\n",
       "      <td>4</td>\n",
       "    </tr>\n",
       "  </tbody>\n",
       "</table>\n",
       "</div>"
      ],
      "text/plain": [
       "                 Zone  %prot_anim_prot_tot  dispo_prot_hab_ans  \\\n",
       "1         Afghanistan                20.83            42467.75   \n",
       "3             Algérie                29.24            69262.40   \n",
       "4              Angola                38.46            42277.95   \n",
       "5  Antigua-et-Barbuda                64.34            58294.15   \n",
       "9             Bahamas                67.70            61758.00   \n",
       "\n",
       "   dispo_kcal_hab_ans  pop_ratio  Pays_cluster  \n",
       "1           1529715.0   3.124915             1  \n",
       "3           2463020.0   2.066436             3  \n",
       "4           1764045.0   3.498663             1  \n",
       "5           1753095.0   1.084678             4  \n",
       "9           1925375.0   0.964026             4  "
      ]
     },
     "execution_count": 70,
     "metadata": {},
     "output_type": "execute_result"
    }
   ],
   "source": [
    "cluster15 = df5.loc[(df5['Pays_cluster']==1) | (df5['Pays_cluster']==2) |(df5['Pays_cluster']==3) |(df5['Pays_cluster']==4)]\n",
    "cluster15.head()"
   ]
  },
  {
   "cell_type": "code",
   "execution_count": 71,
   "id": "e096dcd3",
   "metadata": {
    "scrolled": true
   },
   "outputs": [
    {
     "data": {
      "text/html": [
       "<div>\n",
       "<style scoped>\n",
       "    .dataframe tbody tr th:only-of-type {\n",
       "        vertical-align: middle;\n",
       "    }\n",
       "\n",
       "    .dataframe tbody tr th {\n",
       "        vertical-align: top;\n",
       "    }\n",
       "\n",
       "    .dataframe thead th {\n",
       "        text-align: right;\n",
       "    }\n",
       "</style>\n",
       "<table border=\"1\" class=\"dataframe\">\n",
       "  <thead>\n",
       "    <tr style=\"text-align: right;\">\n",
       "      <th></th>\n",
       "      <th>Code Domaine</th>\n",
       "      <th>Domaine</th>\n",
       "      <th>Code zone (FAO)</th>\n",
       "      <th>Zone</th>\n",
       "      <th>Code Élément</th>\n",
       "      <th>Élément</th>\n",
       "      <th>Code Produit</th>\n",
       "      <th>Produit</th>\n",
       "      <th>Code année</th>\n",
       "      <th>Année</th>\n",
       "      <th>Unité</th>\n",
       "      <th>Valeur</th>\n",
       "      <th>Symbole</th>\n",
       "      <th>Description du Symbole</th>\n",
       "      <th>Note</th>\n",
       "    </tr>\n",
       "  </thead>\n",
       "  <tbody>\n",
       "    <tr>\n",
       "      <th>0</th>\n",
       "      <td>FS</td>\n",
       "      <td>Données de la sécurité alimentaire</td>\n",
       "      <td>2</td>\n",
       "      <td>Afghanistan</td>\n",
       "      <td>6126</td>\n",
       "      <td>Valeur</td>\n",
       "      <td>22013</td>\n",
       "      <td>PIB par habitant, ($ PPA internationaux consta...</td>\n",
       "      <td>2014</td>\n",
       "      <td>2014</td>\n",
       "      <td>I$</td>\n",
       "      <td>2102.4</td>\n",
       "      <td>X</td>\n",
       "      <td>Sources internationales sûres</td>\n",
       "      <td>NaN</td>\n",
       "    </tr>\n",
       "    <tr>\n",
       "      <th>1</th>\n",
       "      <td>FS</td>\n",
       "      <td>Données de la sécurité alimentaire</td>\n",
       "      <td>202</td>\n",
       "      <td>Afrique du Sud</td>\n",
       "      <td>6126</td>\n",
       "      <td>Valeur</td>\n",
       "      <td>22013</td>\n",
       "      <td>PIB par habitant, ($ PPA internationaux consta...</td>\n",
       "      <td>2014</td>\n",
       "      <td>2014</td>\n",
       "      <td>I$</td>\n",
       "      <td>12884.5</td>\n",
       "      <td>X</td>\n",
       "      <td>Sources internationales sûres</td>\n",
       "      <td>NaN</td>\n",
       "    </tr>\n",
       "    <tr>\n",
       "      <th>2</th>\n",
       "      <td>FS</td>\n",
       "      <td>Données de la sécurité alimentaire</td>\n",
       "      <td>3</td>\n",
       "      <td>Albanie</td>\n",
       "      <td>6126</td>\n",
       "      <td>Valeur</td>\n",
       "      <td>22013</td>\n",
       "      <td>PIB par habitant, ($ PPA internationaux consta...</td>\n",
       "      <td>2014</td>\n",
       "      <td>2014</td>\n",
       "      <td>I$</td>\n",
       "      <td>11586.9</td>\n",
       "      <td>X</td>\n",
       "      <td>Sources internationales sûres</td>\n",
       "      <td>NaN</td>\n",
       "    </tr>\n",
       "    <tr>\n",
       "      <th>3</th>\n",
       "      <td>FS</td>\n",
       "      <td>Données de la sécurité alimentaire</td>\n",
       "      <td>4</td>\n",
       "      <td>Algérie</td>\n",
       "      <td>6126</td>\n",
       "      <td>Valeur</td>\n",
       "      <td>22013</td>\n",
       "      <td>PIB par habitant, ($ PPA internationaux consta...</td>\n",
       "      <td>2014</td>\n",
       "      <td>2014</td>\n",
       "      <td>I$</td>\n",
       "      <td>11512.7</td>\n",
       "      <td>X</td>\n",
       "      <td>Sources internationales sûres</td>\n",
       "      <td>NaN</td>\n",
       "    </tr>\n",
       "    <tr>\n",
       "      <th>4</th>\n",
       "      <td>FS</td>\n",
       "      <td>Données de la sécurité alimentaire</td>\n",
       "      <td>79</td>\n",
       "      <td>Allemagne</td>\n",
       "      <td>6126</td>\n",
       "      <td>Valeur</td>\n",
       "      <td>22013</td>\n",
       "      <td>PIB par habitant, ($ PPA internationaux consta...</td>\n",
       "      <td>2014</td>\n",
       "      <td>2014</td>\n",
       "      <td>I$</td>\n",
       "      <td>50770.6</td>\n",
       "      <td>X</td>\n",
       "      <td>Sources internationales sûres</td>\n",
       "      <td>NaN</td>\n",
       "    </tr>\n",
       "    <tr>\n",
       "      <th>...</th>\n",
       "      <td>...</td>\n",
       "      <td>...</td>\n",
       "      <td>...</td>\n",
       "      <td>...</td>\n",
       "      <td>...</td>\n",
       "      <td>...</td>\n",
       "      <td>...</td>\n",
       "      <td>...</td>\n",
       "      <td>...</td>\n",
       "      <td>...</td>\n",
       "      <td>...</td>\n",
       "      <td>...</td>\n",
       "      <td>...</td>\n",
       "      <td>...</td>\n",
       "      <td>...</td>\n",
       "    </tr>\n",
       "    <tr>\n",
       "      <th>182</th>\n",
       "      <td>FS</td>\n",
       "      <td>Données de la sécurité alimentaire</td>\n",
       "      <td>234</td>\n",
       "      <td>Uruguay</td>\n",
       "      <td>6126</td>\n",
       "      <td>Valeur</td>\n",
       "      <td>22013</td>\n",
       "      <td>PIB par habitant, ($ PPA internationaux consta...</td>\n",
       "      <td>2014</td>\n",
       "      <td>2014</td>\n",
       "      <td>I$</td>\n",
       "      <td>22419.0</td>\n",
       "      <td>X</td>\n",
       "      <td>Sources internationales sûres</td>\n",
       "      <td>NaN</td>\n",
       "    </tr>\n",
       "    <tr>\n",
       "      <th>183</th>\n",
       "      <td>FS</td>\n",
       "      <td>Données de la sécurité alimentaire</td>\n",
       "      <td>155</td>\n",
       "      <td>Vanuatu</td>\n",
       "      <td>6126</td>\n",
       "      <td>Valeur</td>\n",
       "      <td>22013</td>\n",
       "      <td>PIB par habitant, ($ PPA internationaux consta...</td>\n",
       "      <td>2014</td>\n",
       "      <td>2014</td>\n",
       "      <td>I$</td>\n",
       "      <td>2984.6</td>\n",
       "      <td>X</td>\n",
       "      <td>Sources internationales sûres</td>\n",
       "      <td>NaN</td>\n",
       "    </tr>\n",
       "    <tr>\n",
       "      <th>184</th>\n",
       "      <td>FS</td>\n",
       "      <td>Données de la sécurité alimentaire</td>\n",
       "      <td>237</td>\n",
       "      <td>Viet Nam</td>\n",
       "      <td>6126</td>\n",
       "      <td>Valeur</td>\n",
       "      <td>22013</td>\n",
       "      <td>PIB par habitant, ($ PPA internationaux consta...</td>\n",
       "      <td>2014</td>\n",
       "      <td>2014</td>\n",
       "      <td>I$</td>\n",
       "      <td>6098.5</td>\n",
       "      <td>X</td>\n",
       "      <td>Sources internationales sûres</td>\n",
       "      <td>NaN</td>\n",
       "    </tr>\n",
       "    <tr>\n",
       "      <th>185</th>\n",
       "      <td>FS</td>\n",
       "      <td>Données de la sécurité alimentaire</td>\n",
       "      <td>251</td>\n",
       "      <td>Zambie</td>\n",
       "      <td>6126</td>\n",
       "      <td>Valeur</td>\n",
       "      <td>22013</td>\n",
       "      <td>PIB par habitant, ($ PPA internationaux consta...</td>\n",
       "      <td>2014</td>\n",
       "      <td>2014</td>\n",
       "      <td>I$</td>\n",
       "      <td>3450.0</td>\n",
       "      <td>X</td>\n",
       "      <td>Sources internationales sûres</td>\n",
       "      <td>NaN</td>\n",
       "    </tr>\n",
       "    <tr>\n",
       "      <th>186</th>\n",
       "      <td>FS</td>\n",
       "      <td>Données de la sécurité alimentaire</td>\n",
       "      <td>181</td>\n",
       "      <td>Zimbabwe</td>\n",
       "      <td>6126</td>\n",
       "      <td>Valeur</td>\n",
       "      <td>22013</td>\n",
       "      <td>PIB par habitant, ($ PPA internationaux consta...</td>\n",
       "      <td>2014</td>\n",
       "      <td>2014</td>\n",
       "      <td>I$</td>\n",
       "      <td>3195.8</td>\n",
       "      <td>X</td>\n",
       "      <td>Sources internationales sûres</td>\n",
       "      <td>NaN</td>\n",
       "    </tr>\n",
       "  </tbody>\n",
       "</table>\n",
       "<p>187 rows × 15 columns</p>\n",
       "</div>"
      ],
      "text/plain": [
       "    Code Domaine                             Domaine  Code zone (FAO)  \\\n",
       "0             FS  Données de la sécurité alimentaire                2   \n",
       "1             FS  Données de la sécurité alimentaire              202   \n",
       "2             FS  Données de la sécurité alimentaire                3   \n",
       "3             FS  Données de la sécurité alimentaire                4   \n",
       "4             FS  Données de la sécurité alimentaire               79   \n",
       "..           ...                                 ...              ...   \n",
       "182           FS  Données de la sécurité alimentaire              234   \n",
       "183           FS  Données de la sécurité alimentaire              155   \n",
       "184           FS  Données de la sécurité alimentaire              237   \n",
       "185           FS  Données de la sécurité alimentaire              251   \n",
       "186           FS  Données de la sécurité alimentaire              181   \n",
       "\n",
       "               Zone  Code Élément Élément  Code Produit  \\\n",
       "0       Afghanistan          6126  Valeur         22013   \n",
       "1    Afrique du Sud          6126  Valeur         22013   \n",
       "2           Albanie          6126  Valeur         22013   \n",
       "3           Algérie          6126  Valeur         22013   \n",
       "4         Allemagne          6126  Valeur         22013   \n",
       "..              ...           ...     ...           ...   \n",
       "182         Uruguay          6126  Valeur         22013   \n",
       "183         Vanuatu          6126  Valeur         22013   \n",
       "184        Viet Nam          6126  Valeur         22013   \n",
       "185          Zambie          6126  Valeur         22013   \n",
       "186        Zimbabwe          6126  Valeur         22013   \n",
       "\n",
       "                                               Produit  Code année  Année  \\\n",
       "0    PIB par habitant, ($ PPA internationaux consta...        2014   2014   \n",
       "1    PIB par habitant, ($ PPA internationaux consta...        2014   2014   \n",
       "2    PIB par habitant, ($ PPA internationaux consta...        2014   2014   \n",
       "3    PIB par habitant, ($ PPA internationaux consta...        2014   2014   \n",
       "4    PIB par habitant, ($ PPA internationaux consta...        2014   2014   \n",
       "..                                                 ...         ...    ...   \n",
       "182  PIB par habitant, ($ PPA internationaux consta...        2014   2014   \n",
       "183  PIB par habitant, ($ PPA internationaux consta...        2014   2014   \n",
       "184  PIB par habitant, ($ PPA internationaux consta...        2014   2014   \n",
       "185  PIB par habitant, ($ PPA internationaux consta...        2014   2014   \n",
       "186  PIB par habitant, ($ PPA internationaux consta...        2014   2014   \n",
       "\n",
       "    Unité   Valeur Symbole         Description du Symbole  Note  \n",
       "0      I$   2102.4       X  Sources internationales sûres   NaN  \n",
       "1      I$  12884.5       X  Sources internationales sûres   NaN  \n",
       "2      I$  11586.9       X  Sources internationales sûres   NaN  \n",
       "3      I$  11512.7       X  Sources internationales sûres   NaN  \n",
       "4      I$  50770.6       X  Sources internationales sûres   NaN  \n",
       "..    ...      ...     ...                            ...   ...  \n",
       "182    I$  22419.0       X  Sources internationales sûres   NaN  \n",
       "183    I$   2984.6       X  Sources internationales sûres   NaN  \n",
       "184    I$   6098.5       X  Sources internationales sûres   NaN  \n",
       "185    I$   3450.0       X  Sources internationales sûres   NaN  \n",
       "186    I$   3195.8       X  Sources internationales sûres   NaN  \n",
       "\n",
       "[187 rows x 15 columns]"
      ]
     },
     "execution_count": 71,
     "metadata": {},
     "output_type": "execute_result"
    }
   ],
   "source": [
    "pib=pd.read_csv(\"pib.csv\")\n",
    "pib"
   ]
  },
  {
   "cell_type": "code",
   "execution_count": 72,
   "id": "679b2ec6",
   "metadata": {},
   "outputs": [],
   "source": [
    "pib.rename(columns={'Valeur':'PIB/habitant/US$'},inplace=True)"
   ]
  },
  {
   "cell_type": "code",
   "execution_count": 73,
   "id": "95861fec",
   "metadata": {},
   "outputs": [
    {
     "data": {
      "text/html": [
       "<div>\n",
       "<style scoped>\n",
       "    .dataframe tbody tr th:only-of-type {\n",
       "        vertical-align: middle;\n",
       "    }\n",
       "\n",
       "    .dataframe tbody tr th {\n",
       "        vertical-align: top;\n",
       "    }\n",
       "\n",
       "    .dataframe thead th {\n",
       "        text-align: right;\n",
       "    }\n",
       "</style>\n",
       "<table border=\"1\" class=\"dataframe\">\n",
       "  <thead>\n",
       "    <tr style=\"text-align: right;\">\n",
       "      <th></th>\n",
       "      <th>Zone</th>\n",
       "      <th>PIB/habitant/US$</th>\n",
       "    </tr>\n",
       "  </thead>\n",
       "  <tbody>\n",
       "    <tr>\n",
       "      <th>0</th>\n",
       "      <td>Afghanistan</td>\n",
       "      <td>2102.4</td>\n",
       "    </tr>\n",
       "    <tr>\n",
       "      <th>1</th>\n",
       "      <td>Afrique du Sud</td>\n",
       "      <td>12884.5</td>\n",
       "    </tr>\n",
       "    <tr>\n",
       "      <th>2</th>\n",
       "      <td>Albanie</td>\n",
       "      <td>11586.9</td>\n",
       "    </tr>\n",
       "    <tr>\n",
       "      <th>3</th>\n",
       "      <td>Algérie</td>\n",
       "      <td>11512.7</td>\n",
       "    </tr>\n",
       "    <tr>\n",
       "      <th>4</th>\n",
       "      <td>Allemagne</td>\n",
       "      <td>50770.6</td>\n",
       "    </tr>\n",
       "  </tbody>\n",
       "</table>\n",
       "</div>"
      ],
      "text/plain": [
       "             Zone  PIB/habitant/US$\n",
       "0     Afghanistan            2102.4\n",
       "1  Afrique du Sud           12884.5\n",
       "2         Albanie           11586.9\n",
       "3         Algérie           11512.7\n",
       "4       Allemagne           50770.6"
      ]
     },
     "execution_count": 73,
     "metadata": {},
     "output_type": "execute_result"
    }
   ],
   "source": [
    "pib=pib[['Zone','PIB/habitant/US$']].copy()\n",
    "pib.head()"
   ]
  },
  {
   "cell_type": "code",
   "execution_count": 74,
   "id": "fbc21e52",
   "metadata": {},
   "outputs": [],
   "source": [
    "df6=pd.merge(cluster15,pib, on='Zone')"
   ]
  },
  {
   "cell_type": "code",
   "execution_count": 75,
   "id": "7c8d4eb2",
   "metadata": {},
   "outputs": [
    {
     "data": {
      "text/html": [
       "<div>\n",
       "<style scoped>\n",
       "    .dataframe tbody tr th:only-of-type {\n",
       "        vertical-align: middle;\n",
       "    }\n",
       "\n",
       "    .dataframe tbody tr th {\n",
       "        vertical-align: top;\n",
       "    }\n",
       "\n",
       "    .dataframe thead th {\n",
       "        text-align: right;\n",
       "    }\n",
       "</style>\n",
       "<table border=\"1\" class=\"dataframe\">\n",
       "  <thead>\n",
       "    <tr style=\"text-align: right;\">\n",
       "      <th></th>\n",
       "      <th>Zone</th>\n",
       "      <th>%prot_anim_prot_tot</th>\n",
       "      <th>dispo_prot_hab_ans</th>\n",
       "      <th>dispo_kcal_hab_ans</th>\n",
       "      <th>pop_ratio</th>\n",
       "      <th>Pays_cluster</th>\n",
       "      <th>PIB/habitant/US$</th>\n",
       "    </tr>\n",
       "  </thead>\n",
       "  <tbody>\n",
       "    <tr>\n",
       "      <th>0</th>\n",
       "      <td>Afghanistan</td>\n",
       "      <td>20.83</td>\n",
       "      <td>42467.75</td>\n",
       "      <td>1529715.0</td>\n",
       "      <td>3.124915</td>\n",
       "      <td>1</td>\n",
       "      <td>2102.4</td>\n",
       "    </tr>\n",
       "    <tr>\n",
       "      <th>1</th>\n",
       "      <td>Algérie</td>\n",
       "      <td>29.24</td>\n",
       "      <td>69262.40</td>\n",
       "      <td>2463020.0</td>\n",
       "      <td>2.066436</td>\n",
       "      <td>3</td>\n",
       "      <td>11512.7</td>\n",
       "    </tr>\n",
       "    <tr>\n",
       "      <th>2</th>\n",
       "      <td>Angola</td>\n",
       "      <td>38.46</td>\n",
       "      <td>42277.95</td>\n",
       "      <td>1764045.0</td>\n",
       "      <td>3.498663</td>\n",
       "      <td>1</td>\n",
       "      <td>8239.8</td>\n",
       "    </tr>\n",
       "    <tr>\n",
       "      <th>3</th>\n",
       "      <td>Antigua-et-Barbuda</td>\n",
       "      <td>64.34</td>\n",
       "      <td>58294.15</td>\n",
       "      <td>1753095.0</td>\n",
       "      <td>1.084678</td>\n",
       "      <td>4</td>\n",
       "      <td>18104.4</td>\n",
       "    </tr>\n",
       "    <tr>\n",
       "      <th>4</th>\n",
       "      <td>Bahamas</td>\n",
       "      <td>67.70</td>\n",
       "      <td>61758.00</td>\n",
       "      <td>1925375.0</td>\n",
       "      <td>0.964026</td>\n",
       "      <td>4</td>\n",
       "      <td>35659.9</td>\n",
       "    </tr>\n",
       "    <tr>\n",
       "      <th>...</th>\n",
       "      <td>...</td>\n",
       "      <td>...</td>\n",
       "      <td>...</td>\n",
       "      <td>...</td>\n",
       "      <td>...</td>\n",
       "      <td>...</td>\n",
       "      <td>...</td>\n",
       "    </tr>\n",
       "    <tr>\n",
       "      <th>118</th>\n",
       "      <td>Éthiopie</td>\n",
       "      <td>11.72</td>\n",
       "      <td>46720.00</td>\n",
       "      <td>1641770.0</td>\n",
       "      <td>2.794448</td>\n",
       "      <td>1</td>\n",
       "      <td>1656.6</td>\n",
       "    </tr>\n",
       "    <tr>\n",
       "      <th>119</th>\n",
       "      <td>Samoa</td>\n",
       "      <td>60.49</td>\n",
       "      <td>63371.30</td>\n",
       "      <td>2170290.0</td>\n",
       "      <td>0.672143</td>\n",
       "      <td>4</td>\n",
       "      <td>5785.5</td>\n",
       "    </tr>\n",
       "    <tr>\n",
       "      <th>120</th>\n",
       "      <td>Zambie</td>\n",
       "      <td>19.24</td>\n",
       "      <td>43139.35</td>\n",
       "      <td>1468030.0</td>\n",
       "      <td>3.114153</td>\n",
       "      <td>1</td>\n",
       "      <td>3450.0</td>\n",
       "    </tr>\n",
       "    <tr>\n",
       "      <th>121</th>\n",
       "      <td>Serbie</td>\n",
       "      <td>51.08</td>\n",
       "      <td>62367.55</td>\n",
       "      <td>2047650.0</td>\n",
       "      <td>-0.241754</td>\n",
       "      <td>4</td>\n",
       "      <td>15226.3</td>\n",
       "    </tr>\n",
       "    <tr>\n",
       "      <th>122</th>\n",
       "      <td>Soudan</td>\n",
       "      <td>29.08</td>\n",
       "      <td>54122.20</td>\n",
       "      <td>1888510.0</td>\n",
       "      <td>2.436420</td>\n",
       "      <td>2</td>\n",
       "      <td>4124.5</td>\n",
       "    </tr>\n",
       "  </tbody>\n",
       "</table>\n",
       "<p>123 rows × 7 columns</p>\n",
       "</div>"
      ],
      "text/plain": [
       "                   Zone  %prot_anim_prot_tot  dispo_prot_hab_ans  \\\n",
       "0           Afghanistan                20.83            42467.75   \n",
       "1               Algérie                29.24            69262.40   \n",
       "2                Angola                38.46            42277.95   \n",
       "3    Antigua-et-Barbuda                64.34            58294.15   \n",
       "4               Bahamas                67.70            61758.00   \n",
       "..                  ...                  ...                 ...   \n",
       "118            Éthiopie                11.72            46720.00   \n",
       "119               Samoa                60.49            63371.30   \n",
       "120              Zambie                19.24            43139.35   \n",
       "121              Serbie                51.08            62367.55   \n",
       "122              Soudan                29.08            54122.20   \n",
       "\n",
       "     dispo_kcal_hab_ans  pop_ratio  Pays_cluster  PIB/habitant/US$  \n",
       "0             1529715.0   3.124915             1            2102.4  \n",
       "1             2463020.0   2.066436             3           11512.7  \n",
       "2             1764045.0   3.498663             1            8239.8  \n",
       "3             1753095.0   1.084678             4           18104.4  \n",
       "4             1925375.0   0.964026             4           35659.9  \n",
       "..                  ...        ...           ...               ...  \n",
       "118           1641770.0   2.794448             1            1656.6  \n",
       "119           2170290.0   0.672143             4            5785.5  \n",
       "120           1468030.0   3.114153             1            3450.0  \n",
       "121           2047650.0  -0.241754             4           15226.3  \n",
       "122           1888510.0   2.436420             2            4124.5  \n",
       "\n",
       "[123 rows x 7 columns]"
      ]
     },
     "execution_count": 75,
     "metadata": {},
     "output_type": "execute_result"
    }
   ],
   "source": [
    "df6"
   ]
  },
  {
   "cell_type": "code",
   "execution_count": 76,
   "id": "e16a539a",
   "metadata": {},
   "outputs": [
    {
     "data": {
      "image/png": "[encoded data removed]",
      "text/plain": [
       "<Figure size 1080x1080 with 1 Axes>"
      ]
     },
     "metadata": {
      "needs_background": "light"
     },
     "output_type": "display_data"
    }
   ],
   "source": [
    "#Test de loi normal\n",
    "\n",
    "plt.figure(figsize = (15,15))\n",
    "\n",
    "sns.histplot(df6[\"PIB/habitant/US$\"],\n",
    "                  kde=True,\n",
    "                  color='skyblue',\n",
    "                  )\n",
    "plt.axvline(x=df6['PIB/habitant/US$'].mean(), label='Moyenne', linestyle='-', linewidth=2)\n",
    "plt.axvline(x=df6['PIB/habitant/US$'].median(), label='Médiane', linestyle='--', linewidth=2)\n",
    "plt.xlabel('PIB/habitant/US$')\n",
    "plt.ylabel('Fréquence')\n",
    "plt.title('Pib par habitant')\n",
    "plt.legend()\n",
    "plt.show()"
   ]
  },
  {
   "cell_type": "code",
   "execution_count": 77,
   "id": "e6c67e70",
   "metadata": {},
   "outputs": [
    {
     "data": {
      "text/plain": [
       "KstestResult(statistic=0.155, pvalue=0.009107149056921449)"
      ]
     },
     "execution_count": 77,
     "metadata": {},
     "output_type": "execute_result"
    }
   ],
   "source": [
    "ks_2samp(df6[\"PIB/habitant/US$\"],list(np.random.normal(np.mean(df6[\"PIB/habitant/US$\"]), np.std(df6[\"PIB/habitant/US$\"]), 1000)))"
   ]
  },
  {
   "cell_type": "code",
   "execution_count": 78,
   "id": "f6fd55e3",
   "metadata": {},
   "outputs": [],
   "source": [
    "#PIB Ne suis pas la loi normal"
   ]
  },
  {
   "cell_type": "code",
   "execution_count": 79,
   "id": "bce57fd4",
   "metadata": {
    "scrolled": true
   },
   "outputs": [
    {
     "data": {
      "text/html": [
       "<div>\n",
       "<style scoped>\n",
       "    .dataframe tbody tr th:only-of-type {\n",
       "        vertical-align: middle;\n",
       "    }\n",
       "\n",
       "    .dataframe tbody tr th {\n",
       "        vertical-align: top;\n",
       "    }\n",
       "\n",
       "    .dataframe thead th {\n",
       "        text-align: right;\n",
       "    }\n",
       "</style>\n",
       "<table border=\"1\" class=\"dataframe\">\n",
       "  <thead>\n",
       "    <tr style=\"text-align: right;\">\n",
       "      <th></th>\n",
       "      <th>Code Domaine</th>\n",
       "      <th>Domaine</th>\n",
       "      <th>Code zone (FAO)</th>\n",
       "      <th>Zone</th>\n",
       "      <th>Code Élément</th>\n",
       "      <th>Élément</th>\n",
       "      <th>Code Produit (CPC)</th>\n",
       "      <th>Produit</th>\n",
       "      <th>Code année</th>\n",
       "      <th>Année</th>\n",
       "      <th>Unité</th>\n",
       "      <th>Valeur</th>\n",
       "      <th>Symbole</th>\n",
       "      <th>Description du Symbole</th>\n",
       "    </tr>\n",
       "  </thead>\n",
       "  <tbody>\n",
       "    <tr>\n",
       "      <th>0</th>\n",
       "      <td>SCL</td>\n",
       "      <td>Compte Disponibilités et Utilisations (CDU)</td>\n",
       "      <td>2</td>\n",
       "      <td>Afghanistan</td>\n",
       "      <td>5610</td>\n",
       "      <td>Importations - Quantité</td>\n",
       "      <td>21122.0</td>\n",
       "      <td>Viande, canard</td>\n",
       "      <td>2014</td>\n",
       "      <td>2014</td>\n",
       "      <td>tonnes</td>\n",
       "      <td>129</td>\n",
       "      <td>*</td>\n",
       "      <td>Chiffre non officiel</td>\n",
       "    </tr>\n",
       "    <tr>\n",
       "      <th>1</th>\n",
       "      <td>SCL</td>\n",
       "      <td>Compte Disponibilités et Utilisations (CDU)</td>\n",
       "      <td>2</td>\n",
       "      <td>Afghanistan</td>\n",
       "      <td>5141</td>\n",
       "      <td>Disponibilité alimentaire en quantité (tonnes)</td>\n",
       "      <td>21122.0</td>\n",
       "      <td>Viande, canard</td>\n",
       "      <td>2014</td>\n",
       "      <td>2014</td>\n",
       "      <td>tonnes</td>\n",
       "      <td>129</td>\n",
       "      <td>F</td>\n",
       "      <td>Estimation FAO</td>\n",
       "    </tr>\n",
       "    <tr>\n",
       "      <th>2</th>\n",
       "      <td>SCL</td>\n",
       "      <td>Compte Disponibilités et Utilisations (CDU)</td>\n",
       "      <td>2</td>\n",
       "      <td>Afghanistan</td>\n",
       "      <td>664</td>\n",
       "      <td>Disponibilité alimentaire (Kcal/personne/jour)</td>\n",
       "      <td>21122.0</td>\n",
       "      <td>Viande, canard</td>\n",
       "      <td>2014</td>\n",
       "      <td>2014</td>\n",
       "      <td>Kcal/personne/jour</td>\n",
       "      <td>0</td>\n",
       "      <td>Fc</td>\n",
       "      <td>Donnée calculée</td>\n",
       "    </tr>\n",
       "    <tr>\n",
       "      <th>3</th>\n",
       "      <td>SCL</td>\n",
       "      <td>Compte Disponibilités et Utilisations (CDU)</td>\n",
       "      <td>2</td>\n",
       "      <td>Afghanistan</td>\n",
       "      <td>5610</td>\n",
       "      <td>Importations - Quantité</td>\n",
       "      <td>21124.0</td>\n",
       "      <td>Viande, dinde</td>\n",
       "      <td>2014</td>\n",
       "      <td>2014</td>\n",
       "      <td>tonnes</td>\n",
       "      <td>250</td>\n",
       "      <td>*</td>\n",
       "      <td>Chiffre non officiel</td>\n",
       "    </tr>\n",
       "    <tr>\n",
       "      <th>4</th>\n",
       "      <td>SCL</td>\n",
       "      <td>Compte Disponibilités et Utilisations (CDU)</td>\n",
       "      <td>2</td>\n",
       "      <td>Afghanistan</td>\n",
       "      <td>5141</td>\n",
       "      <td>Disponibilité alimentaire en quantité (tonnes)</td>\n",
       "      <td>21124.0</td>\n",
       "      <td>Viande, dinde</td>\n",
       "      <td>2014</td>\n",
       "      <td>2014</td>\n",
       "      <td>tonnes</td>\n",
       "      <td>250</td>\n",
       "      <td>F</td>\n",
       "      <td>Estimation FAO</td>\n",
       "    </tr>\n",
       "    <tr>\n",
       "      <th>...</th>\n",
       "      <td>...</td>\n",
       "      <td>...</td>\n",
       "      <td>...</td>\n",
       "      <td>...</td>\n",
       "      <td>...</td>\n",
       "      <td>...</td>\n",
       "      <td>...</td>\n",
       "      <td>...</td>\n",
       "      <td>...</td>\n",
       "      <td>...</td>\n",
       "      <td>...</td>\n",
       "      <td>...</td>\n",
       "      <td>...</td>\n",
       "      <td>...</td>\n",
       "    </tr>\n",
       "    <tr>\n",
       "      <th>4427</th>\n",
       "      <td>SCL</td>\n",
       "      <td>Compte Disponibilités et Utilisations (CDU)</td>\n",
       "      <td>181</td>\n",
       "      <td>Zimbabwe</td>\n",
       "      <td>5071</td>\n",
       "      <td>Variation de stock</td>\n",
       "      <td>21121.0</td>\n",
       "      <td>Viande, volaille</td>\n",
       "      <td>2014</td>\n",
       "      <td>2014</td>\n",
       "      <td>tonnes</td>\n",
       "      <td>-13896</td>\n",
       "      <td>Im</td>\n",
       "      <td>Données de la FAO basées sur une méthodologie ...</td>\n",
       "    </tr>\n",
       "    <tr>\n",
       "      <th>4428</th>\n",
       "      <td>SCL</td>\n",
       "      <td>Compte Disponibilités et Utilisations (CDU)</td>\n",
       "      <td>181</td>\n",
       "      <td>Zimbabwe</td>\n",
       "      <td>5141</td>\n",
       "      <td>Disponibilité alimentaire en quantité (tonnes)</td>\n",
       "      <td>21121.0</td>\n",
       "      <td>Viande, volaille</td>\n",
       "      <td>2014</td>\n",
       "      <td>2014</td>\n",
       "      <td>tonnes</td>\n",
       "      <td>78949</td>\n",
       "      <td>F</td>\n",
       "      <td>Estimation FAO</td>\n",
       "    </tr>\n",
       "    <tr>\n",
       "      <th>4429</th>\n",
       "      <td>SCL</td>\n",
       "      <td>Compte Disponibilités et Utilisations (CDU)</td>\n",
       "      <td>181</td>\n",
       "      <td>Zimbabwe</td>\n",
       "      <td>664</td>\n",
       "      <td>Disponibilité alimentaire (Kcal/personne/jour)</td>\n",
       "      <td>21121.0</td>\n",
       "      <td>Viande, volaille</td>\n",
       "      <td>2014</td>\n",
       "      <td>2014</td>\n",
       "      <td>Kcal/personne/jour</td>\n",
       "      <td>19</td>\n",
       "      <td>Fc</td>\n",
       "      <td>Donnée calculée</td>\n",
       "    </tr>\n",
       "    <tr>\n",
       "      <th>4430</th>\n",
       "      <td>SCL</td>\n",
       "      <td>Compte Disponibilités et Utilisations (CDU)</td>\n",
       "      <td>181</td>\n",
       "      <td>Zimbabwe</td>\n",
       "      <td>674</td>\n",
       "      <td>Disponibilité de protéines en quantité (g/pers...</td>\n",
       "      <td>21121.0</td>\n",
       "      <td>Viande, volaille</td>\n",
       "      <td>2014</td>\n",
       "      <td>2014</td>\n",
       "      <td>g/personne/jour</td>\n",
       "      <td>2</td>\n",
       "      <td>Fc</td>\n",
       "      <td>Donnée calculée</td>\n",
       "    </tr>\n",
       "    <tr>\n",
       "      <th>4431</th>\n",
       "      <td>SCL</td>\n",
       "      <td>Compte Disponibilités et Utilisations (CDU)</td>\n",
       "      <td>181</td>\n",
       "      <td>Zimbabwe</td>\n",
       "      <td>684</td>\n",
       "      <td>Disponibilité de matière grasse en quantité (g...</td>\n",
       "      <td>21121.0</td>\n",
       "      <td>Viande, volaille</td>\n",
       "      <td>2014</td>\n",
       "      <td>2014</td>\n",
       "      <td>g/personne/jour</td>\n",
       "      <td>1</td>\n",
       "      <td>Fc</td>\n",
       "      <td>Donnée calculée</td>\n",
       "    </tr>\n",
       "  </tbody>\n",
       "</table>\n",
       "<p>4432 rows × 14 columns</p>\n",
       "</div>"
      ],
      "text/plain": [
       "     Code Domaine                                      Domaine  \\\n",
       "0             SCL  Compte Disponibilités et Utilisations (CDU)   \n",
       "1             SCL  Compte Disponibilités et Utilisations (CDU)   \n",
       "2             SCL  Compte Disponibilités et Utilisations (CDU)   \n",
       "3             SCL  Compte Disponibilités et Utilisations (CDU)   \n",
       "4             SCL  Compte Disponibilités et Utilisations (CDU)   \n",
       "...           ...                                          ...   \n",
       "4427          SCL  Compte Disponibilités et Utilisations (CDU)   \n",
       "4428          SCL  Compte Disponibilités et Utilisations (CDU)   \n",
       "4429          SCL  Compte Disponibilités et Utilisations (CDU)   \n",
       "4430          SCL  Compte Disponibilités et Utilisations (CDU)   \n",
       "4431          SCL  Compte Disponibilités et Utilisations (CDU)   \n",
       "\n",
       "      Code zone (FAO)         Zone  Code Élément  \\\n",
       "0                   2  Afghanistan          5610   \n",
       "1                   2  Afghanistan          5141   \n",
       "2                   2  Afghanistan           664   \n",
       "3                   2  Afghanistan          5610   \n",
       "4                   2  Afghanistan          5141   \n",
       "...               ...          ...           ...   \n",
       "4427              181     Zimbabwe          5071   \n",
       "4428              181     Zimbabwe          5141   \n",
       "4429              181     Zimbabwe           664   \n",
       "4430              181     Zimbabwe           674   \n",
       "4431              181     Zimbabwe           684   \n",
       "\n",
       "                                                Élément  Code Produit (CPC)  \\\n",
       "0                               Importations - Quantité             21122.0   \n",
       "1        Disponibilité alimentaire en quantité (tonnes)             21122.0   \n",
       "2        Disponibilité alimentaire (Kcal/personne/jour)             21122.0   \n",
       "3                               Importations - Quantité             21124.0   \n",
       "4        Disponibilité alimentaire en quantité (tonnes)             21124.0   \n",
       "...                                                 ...                 ...   \n",
       "4427                                 Variation de stock             21121.0   \n",
       "4428     Disponibilité alimentaire en quantité (tonnes)             21121.0   \n",
       "4429     Disponibilité alimentaire (Kcal/personne/jour)             21121.0   \n",
       "4430  Disponibilité de protéines en quantité (g/pers...             21121.0   \n",
       "4431  Disponibilité de matière grasse en quantité (g...             21121.0   \n",
       "\n",
       "               Produit  Code année  Année               Unité  Valeur Symbole  \\\n",
       "0       Viande, canard        2014   2014              tonnes     129       *   \n",
       "1       Viande, canard        2014   2014              tonnes     129       F   \n",
       "2       Viande, canard        2014   2014  Kcal/personne/jour       0      Fc   \n",
       "3        Viande, dinde        2014   2014              tonnes     250       *   \n",
       "4        Viande, dinde        2014   2014              tonnes     250       F   \n",
       "...                ...         ...    ...                 ...     ...     ...   \n",
       "4427  Viande, volaille        2014   2014              tonnes  -13896      Im   \n",
       "4428  Viande, volaille        2014   2014              tonnes   78949       F   \n",
       "4429  Viande, volaille        2014   2014  Kcal/personne/jour      19      Fc   \n",
       "4430  Viande, volaille        2014   2014     g/personne/jour       2      Fc   \n",
       "4431  Viande, volaille        2014   2014     g/personne/jour       1      Fc   \n",
       "\n",
       "                                 Description du Symbole  \n",
       "0                                  Chiffre non officiel  \n",
       "1                                        Estimation FAO  \n",
       "2                                       Donnée calculée  \n",
       "3                                  Chiffre non officiel  \n",
       "4                                        Estimation FAO  \n",
       "...                                                 ...  \n",
       "4427  Données de la FAO basées sur une méthodologie ...  \n",
       "4428                                     Estimation FAO  \n",
       "4429                                    Donnée calculée  \n",
       "4430                                    Donnée calculée  \n",
       "4431                                    Donnée calculée  \n",
       "\n",
       "[4432 rows x 14 columns]"
      ]
     },
     "execution_count": 79,
     "metadata": {},
     "output_type": "execute_result"
    }
   ],
   "source": [
    "volail=pd.read_csv(\"volaile.csv\")\n",
    "volail"
   ]
  },
  {
   "cell_type": "code",
   "execution_count": 80,
   "id": "5e93a5b9",
   "metadata": {},
   "outputs": [
    {
     "data": {
      "text/html": [
       "<div>\n",
       "<style scoped>\n",
       "    .dataframe tbody tr th:only-of-type {\n",
       "        vertical-align: middle;\n",
       "    }\n",
       "\n",
       "    .dataframe tbody tr th {\n",
       "        vertical-align: top;\n",
       "    }\n",
       "\n",
       "    .dataframe thead th {\n",
       "        text-align: right;\n",
       "    }\n",
       "</style>\n",
       "<table border=\"1\" class=\"dataframe\">\n",
       "  <thead>\n",
       "    <tr style=\"text-align: right;\">\n",
       "      <th>Élément</th>\n",
       "      <th>Code zone (FAO)</th>\n",
       "      <th>Zone</th>\n",
       "      <th>Aliments pour animaux</th>\n",
       "      <th>Autres utilisations (non alimentaire)</th>\n",
       "      <th>Disponibilité alimentaire (Kcal/personne/jour)</th>\n",
       "      <th>Disponibilité alimentaire en quantité (g/personne/jour)</th>\n",
       "      <th>Disponibilité alimentaire en quantité (tonnes)</th>\n",
       "      <th>Disponibilité de matière grasse en quantité (g/personne/jour)</th>\n",
       "      <th>Disponibilité de protéines en quantité (g/personne/jour)</th>\n",
       "      <th>Exportations - Quantité</th>\n",
       "      <th>Importations - Quantité</th>\n",
       "      <th>Loss</th>\n",
       "      <th>Production</th>\n",
       "      <th>Variation de stock</th>\n",
       "    </tr>\n",
       "  </thead>\n",
       "  <tbody>\n",
       "    <tr>\n",
       "      <th>0</th>\n",
       "      <td>1</td>\n",
       "      <td>Arménie</td>\n",
       "      <td>NaN</td>\n",
       "      <td>NaN</td>\n",
       "      <td>49.0</td>\n",
       "      <td>40.0</td>\n",
       "      <td>42846.0</td>\n",
       "      <td>3.0</td>\n",
       "      <td>5.0</td>\n",
       "      <td>45.0</td>\n",
       "      <td>31366.0</td>\n",
       "      <td>200.0</td>\n",
       "      <td>8800.0</td>\n",
       "      <td>-2926.0</td>\n",
       "    </tr>\n",
       "    <tr>\n",
       "      <th>1</th>\n",
       "      <td>2</td>\n",
       "      <td>Afghanistan</td>\n",
       "      <td>NaN</td>\n",
       "      <td>NaN</td>\n",
       "      <td>8.0</td>\n",
       "      <td>NaN</td>\n",
       "      <td>73296.0</td>\n",
       "      <td>NaN</td>\n",
       "      <td>NaN</td>\n",
       "      <td>NaN</td>\n",
       "      <td>42300.0</td>\n",
       "      <td>NaN</td>\n",
       "      <td>22126.0</td>\n",
       "      <td>-8871.0</td>\n",
       "    </tr>\n",
       "    <tr>\n",
       "      <th>2</th>\n",
       "      <td>3</td>\n",
       "      <td>Albanie</td>\n",
       "      <td>NaN</td>\n",
       "      <td>NaN</td>\n",
       "      <td>61.0</td>\n",
       "      <td>32.0</td>\n",
       "      <td>33956.0</td>\n",
       "      <td>5.0</td>\n",
       "      <td>4.0</td>\n",
       "      <td>NaN</td>\n",
       "      <td>21181.0</td>\n",
       "      <td>NaN</td>\n",
       "      <td>12775.0</td>\n",
       "      <td>0.0</td>\n",
       "    </tr>\n",
       "    <tr>\n",
       "      <th>3</th>\n",
       "      <td>4</td>\n",
       "      <td>Algérie</td>\n",
       "      <td>NaN</td>\n",
       "      <td>NaN</td>\n",
       "      <td>25.0</td>\n",
       "      <td>NaN</td>\n",
       "      <td>278512.0</td>\n",
       "      <td>2.0</td>\n",
       "      <td>2.0</td>\n",
       "      <td>144.0</td>\n",
       "      <td>NaN</td>\n",
       "      <td>NaN</td>\n",
       "      <td>265384.0</td>\n",
       "      <td>-13271.0</td>\n",
       "    </tr>\n",
       "    <tr>\n",
       "      <th>4</th>\n",
       "      <td>7</td>\n",
       "      <td>Angola</td>\n",
       "      <td>NaN</td>\n",
       "      <td>NaN</td>\n",
       "      <td>48.0</td>\n",
       "      <td>NaN</td>\n",
       "      <td>390463.0</td>\n",
       "      <td>3.0</td>\n",
       "      <td>5.0</td>\n",
       "      <td>NaN</td>\n",
       "      <td>364603.0</td>\n",
       "      <td>NaN</td>\n",
       "      <td>25860.0</td>\n",
       "      <td>0.0</td>\n",
       "    </tr>\n",
       "  </tbody>\n",
       "</table>\n",
       "</div>"
      ],
      "text/plain": [
       "Élément  Code zone (FAO)         Zone  Aliments pour animaux  \\\n",
       "0                      1      Arménie                    NaN   \n",
       "1                      2  Afghanistan                    NaN   \n",
       "2                      3      Albanie                    NaN   \n",
       "3                      4      Algérie                    NaN   \n",
       "4                      7       Angola                    NaN   \n",
       "\n",
       "Élément  Autres utilisations (non alimentaire)  \\\n",
       "0                                          NaN   \n",
       "1                                          NaN   \n",
       "2                                          NaN   \n",
       "3                                          NaN   \n",
       "4                                          NaN   \n",
       "\n",
       "Élément  Disponibilité alimentaire (Kcal/personne/jour)  \\\n",
       "0                                                  49.0   \n",
       "1                                                   8.0   \n",
       "2                                                  61.0   \n",
       "3                                                  25.0   \n",
       "4                                                  48.0   \n",
       "\n",
       "Élément  Disponibilité alimentaire en quantité (g/personne/jour)  \\\n",
       "0                                                     40.0         \n",
       "1                                                      NaN         \n",
       "2                                                     32.0         \n",
       "3                                                      NaN         \n",
       "4                                                      NaN         \n",
       "\n",
       "Élément  Disponibilité alimentaire en quantité (tonnes)  \\\n",
       "0                                               42846.0   \n",
       "1                                               73296.0   \n",
       "2                                               33956.0   \n",
       "3                                              278512.0   \n",
       "4                                              390463.0   \n",
       "\n",
       "Élément  Disponibilité de matière grasse en quantité (g/personne/jour)  \\\n",
       "0                                                      3.0               \n",
       "1                                                      NaN               \n",
       "2                                                      5.0               \n",
       "3                                                      2.0               \n",
       "4                                                      3.0               \n",
       "\n",
       "Élément  Disponibilité de protéines en quantité (g/personne/jour)  \\\n",
       "0                                                      5.0          \n",
       "1                                                      NaN          \n",
       "2                                                      4.0          \n",
       "3                                                      2.0          \n",
       "4                                                      5.0          \n",
       "\n",
       "Élément  Exportations - Quantité  Importations - Quantité   Loss  Production  \\\n",
       "0                           45.0                  31366.0  200.0      8800.0   \n",
       "1                            NaN                  42300.0    NaN     22126.0   \n",
       "2                            NaN                  21181.0    NaN     12775.0   \n",
       "3                          144.0                      NaN    NaN    265384.0   \n",
       "4                            NaN                 364603.0    NaN     25860.0   \n",
       "\n",
       "Élément  Variation de stock  \n",
       "0                   -2926.0  \n",
       "1                   -8871.0  \n",
       "2                       0.0  \n",
       "3                  -13271.0  \n",
       "4                       0.0  "
      ]
     },
     "execution_count": 80,
     "metadata": {},
     "output_type": "execute_result"
    }
   ],
   "source": [
    "volail= volail[volail['Produit'] == 'Viande, volaille']\n",
    "volail= pd.pivot_table(volail, index=['Code zone (FAO)', 'Zone'], columns='Élément', values = 'Valeur', aggfunc=np.sum).reset_index()\n",
    "volail.head()"
   ]
  },
  {
   "cell_type": "code",
   "execution_count": 81,
   "id": "eb5a343e",
   "metadata": {},
   "outputs": [
    {
     "data": {
      "text/html": [
       "<div>\n",
       "<style scoped>\n",
       "    .dataframe tbody tr th:only-of-type {\n",
       "        vertical-align: middle;\n",
       "    }\n",
       "\n",
       "    .dataframe tbody tr th {\n",
       "        vertical-align: top;\n",
       "    }\n",
       "\n",
       "    .dataframe thead th {\n",
       "        text-align: right;\n",
       "    }\n",
       "</style>\n",
       "<table border=\"1\" class=\"dataframe\">\n",
       "  <thead>\n",
       "    <tr style=\"text-align: right;\">\n",
       "      <th></th>\n",
       "      <th>pop_ratio</th>\n",
       "      <th>PIB/habitant/US$</th>\n",
       "      <th>%prot_anim_prot_tot</th>\n",
       "      <th>dispo_prot_hab_ans</th>\n",
       "      <th>prot_volail</th>\n",
       "      <th>dispo_kcal_hab_ans</th>\n",
       "    </tr>\n",
       "    <tr>\n",
       "      <th>Zone</th>\n",
       "      <th></th>\n",
       "      <th></th>\n",
       "      <th></th>\n",
       "      <th></th>\n",
       "      <th></th>\n",
       "      <th></th>\n",
       "    </tr>\n",
       "  </thead>\n",
       "  <tbody>\n",
       "    <tr>\n",
       "      <th>Afghanistan</th>\n",
       "      <td>3.124915</td>\n",
       "      <td>2102.4</td>\n",
       "      <td>20.83</td>\n",
       "      <td>42467.75</td>\n",
       "      <td>0.00</td>\n",
       "      <td>1529715.0</td>\n",
       "    </tr>\n",
       "    <tr>\n",
       "      <th>Algérie</th>\n",
       "      <td>2.066436</td>\n",
       "      <td>11512.7</td>\n",
       "      <td>29.24</td>\n",
       "      <td>69262.40</td>\n",
       "      <td>1.05</td>\n",
       "      <td>2463020.0</td>\n",
       "    </tr>\n",
       "    <tr>\n",
       "      <th>Angola</th>\n",
       "      <td>3.498663</td>\n",
       "      <td>8239.8</td>\n",
       "      <td>38.46</td>\n",
       "      <td>42277.95</td>\n",
       "      <td>4.32</td>\n",
       "      <td>1764045.0</td>\n",
       "    </tr>\n",
       "    <tr>\n",
       "      <th>Antigua-et-Barbuda</th>\n",
       "      <td>1.084678</td>\n",
       "      <td>18104.4</td>\n",
       "      <td>64.34</td>\n",
       "      <td>58294.15</td>\n",
       "      <td>10.64</td>\n",
       "      <td>1753095.0</td>\n",
       "    </tr>\n",
       "    <tr>\n",
       "      <th>Bahamas</th>\n",
       "      <td>0.964026</td>\n",
       "      <td>35659.9</td>\n",
       "      <td>67.70</td>\n",
       "      <td>61758.00</td>\n",
       "      <td>7.09</td>\n",
       "      <td>1925375.0</td>\n",
       "    </tr>\n",
       "  </tbody>\n",
       "</table>\n",
       "</div>"
      ],
      "text/plain": [
       "                    pop_ratio  PIB/habitant/US$  %prot_anim_prot_tot  \\\n",
       "Zone                                                                   \n",
       "Afghanistan          3.124915            2102.4                20.83   \n",
       "Algérie              2.066436           11512.7                29.24   \n",
       "Angola               3.498663            8239.8                38.46   \n",
       "Antigua-et-Barbuda   1.084678           18104.4                64.34   \n",
       "Bahamas              0.964026           35659.9                67.70   \n",
       "\n",
       "                    dispo_prot_hab_ans  prot_volail  dispo_kcal_hab_ans  \n",
       "Zone                                                                     \n",
       "Afghanistan                   42467.75         0.00           1529715.0  \n",
       "Algérie                       69262.40         1.05           2463020.0  \n",
       "Angola                        42277.95         4.32           1764045.0  \n",
       "Antigua-et-Barbuda            58294.15        10.64           1753095.0  \n",
       "Bahamas                       61758.00         7.09           1925375.0  "
      ]
     },
     "execution_count": 81,
     "metadata": {},
     "output_type": "execute_result"
    }
   ],
   "source": [
    "df6 = pd.merge(df6, volail, on = 'Zone')\n",
    "df6['prot_volail'] = round((df6['Disponibilité de protéines en quantité (g/personne/jour)'] * 365) / df6['dispo_prot_hab_ans']*100,2)\n",
    "df6= df6[['Zone','pop_ratio', 'PIB/habitant/US$', '%prot_anim_prot_tot', 'dispo_prot_hab_ans', 'prot_volail', 'dispo_kcal_hab_ans']]\n",
    "df6= df6.set_index('Zone')\n",
    "df6 = df6.fillna(0)\n",
    "df6.head()\n"
   ]
  },
  {
   "cell_type": "code",
   "execution_count": 82,
   "id": "16c53dc1",
   "metadata": {
    "scrolled": false
   },
   "outputs": [
    {
     "data": {
      "image/png": "[encoded data removed]",
      "text/plain": [
       "<Figure size 1080x1080 with 1 Axes>"
      ]
     },
     "metadata": {
      "needs_background": "light"
     },
     "output_type": "display_data"
    }
   ],
   "source": [
    "#Test de loi normal\n",
    "\n",
    "plt.figure(figsize = (15,15))\n",
    "\n",
    "sns.histplot(df6[\"prot_volail\"],\n",
    "                  kde=True,\n",
    "                  color='skyblue',\n",
    "                  )\n",
    "plt.axvline(x=df6['prot_volail'].mean(), label='Moyenne', linestyle='-', linewidth=2)\n",
    "plt.axvline(x=df6['prot_volail'].median(), label='Médiane', linestyle='--', linewidth=2)\n",
    "plt.xlabel('prot_volail')\n",
    "plt.ylabel('Fréquence')\n",
    "plt.title('Répartition de la protéine par volail par pays ')\n",
    "plt.legend()\n",
    "plt.show()"
   ]
  },
  {
   "cell_type": "code",
   "execution_count": 83,
   "id": "db93e680",
   "metadata": {},
   "outputs": [
    {
     "data": {
      "text/plain": [
       "KstestResult(statistic=0.2770650406504065, pvalue=6.40041468713548e-08)"
      ]
     },
     "execution_count": 83,
     "metadata": {},
     "output_type": "execute_result"
    }
   ],
   "source": [
    "ks_2samp(df6[\"prot_volail\"],list(np.random.normal(np.mean(df6[\"prot_volail\"]),np.std(df6[\"prot_volail\"]), 1000)))"
   ]
  },
  {
   "cell_type": "code",
   "execution_count": 84,
   "id": "52ad272d",
   "metadata": {},
   "outputs": [],
   "source": [
    "#Prot_Volail ne suit pas  la loi normal"
   ]
  },
  {
   "cell_type": "markdown",
   "id": "8cb62f77",
   "metadata": {},
   "source": [
    "# Kmeans"
   ]
  },
  {
   "cell_type": "code",
   "execution_count": 85,
   "id": "51f7a805",
   "metadata": {},
   "outputs": [],
   "source": [
    "X=df6.values"
   ]
  },
  {
   "cell_type": "code",
   "execution_count": 86,
   "id": "5f046fed",
   "metadata": {},
   "outputs": [
    {
     "name": "stderr",
     "output_type": "stream",
     "text": [
      "C:\\Users\\33753\\anaconda3\\lib\\site-packages\\sklearn\\cluster\\_kmeans.py:881: UserWarning: KMeans is known to have a memory leak on Windows with MKL, when there are less chunks than available threads. You can avoid it by setting the environment variable OMP_NUM_THREADS=1.\n",
      "  warnings.warn(\n"
     ]
    }
   ],
   "source": [
    "inert=[]\n",
    "for i in range(1,10):\n",
    "    kmeans=KMeans(n_clusters=i)\n",
    "    kmeans.fit(X)\n",
    "    inert.append(kmeans.inertia_)"
   ]
  },
  {
   "cell_type": "code",
   "execution_count": 87,
   "id": "57e06ccb",
   "metadata": {},
   "outputs": [
    {
     "data": {
      "image/png": "[encoded data removed]",
      "text/plain": [
       "<Figure size 432x288 with 1 Axes>"
      ]
     },
     "metadata": {
      "needs_background": "light"
     },
     "output_type": "display_data"
    }
   ],
   "source": [
    "plt.plot(range(1,10),inert)\n",
    "plt.title(\"METHODE DE ELBOW\")\n",
    "plt.xlabel(\"Nombres de clusters\")\n",
    "plt.ylabel(\"Inertie\")\n",
    "plt.show()"
   ]
  },
  {
   "cell_type": "code",
   "execution_count": 88,
   "id": "0bb530ea",
   "metadata": {},
   "outputs": [],
   "source": [
    "#Application de Kmeans \n",
    "kmeans=KMeans(n_clusters=4)\n",
    "kmeans.fit(X)\n",
    "clusters=kmeans.labels_"
   ]
  },
  {
   "cell_type": "code",
   "execution_count": 89,
   "id": "235f551a",
   "metadata": {},
   "outputs": [
    {
     "data": {
      "text/html": [
       "<div>\n",
       "<style scoped>\n",
       "    .dataframe tbody tr th:only-of-type {\n",
       "        vertical-align: middle;\n",
       "    }\n",
       "\n",
       "    .dataframe tbody tr th {\n",
       "        vertical-align: top;\n",
       "    }\n",
       "\n",
       "    .dataframe thead th {\n",
       "        text-align: right;\n",
       "    }\n",
       "</style>\n",
       "<table border=\"1\" class=\"dataframe\">\n",
       "  <thead>\n",
       "    <tr style=\"text-align: right;\">\n",
       "      <th></th>\n",
       "      <th>Zone</th>\n",
       "      <th>kmeans_cluster</th>\n",
       "    </tr>\n",
       "  </thead>\n",
       "  <tbody>\n",
       "    <tr>\n",
       "      <th>2</th>\n",
       "      <td>Angola</td>\n",
       "      <td>0</td>\n",
       "    </tr>\n",
       "    <tr>\n",
       "      <th>3</th>\n",
       "      <td>Antigua-et-Barbuda</td>\n",
       "      <td>0</td>\n",
       "    </tr>\n",
       "    <tr>\n",
       "      <th>4</th>\n",
       "      <td>Bahamas</td>\n",
       "      <td>0</td>\n",
       "    </tr>\n",
       "    <tr>\n",
       "      <th>6</th>\n",
       "      <td>Bangladesh</td>\n",
       "      <td>0</td>\n",
       "    </tr>\n",
       "    <tr>\n",
       "      <th>10</th>\n",
       "      <td>Belize</td>\n",
       "      <td>0</td>\n",
       "    </tr>\n",
       "    <tr>\n",
       "      <th>...</th>\n",
       "      <td>...</td>\n",
       "      <td>...</td>\n",
       "    </tr>\n",
       "    <tr>\n",
       "      <th>79</th>\n",
       "      <td>Nouvelle-Zélande</td>\n",
       "      <td>3</td>\n",
       "    </tr>\n",
       "    <tr>\n",
       "      <th>111</th>\n",
       "      <td>Tunisie</td>\n",
       "      <td>3</td>\n",
       "    </tr>\n",
       "    <tr>\n",
       "      <th>112</th>\n",
       "      <td>Turquie</td>\n",
       "      <td>3</td>\n",
       "    </tr>\n",
       "    <tr>\n",
       "      <th>114</th>\n",
       "      <td>Ukraine</td>\n",
       "      <td>3</td>\n",
       "    </tr>\n",
       "    <tr>\n",
       "      <th>29</th>\n",
       "      <td>Égypte</td>\n",
       "      <td>3</td>\n",
       "    </tr>\n",
       "  </tbody>\n",
       "</table>\n",
       "<p>123 rows × 2 columns</p>\n",
       "</div>"
      ],
      "text/plain": [
       "                   Zone  kmeans_cluster\n",
       "2                Angola               0\n",
       "3    Antigua-et-Barbuda               0\n",
       "4               Bahamas               0\n",
       "6            Bangladesh               0\n",
       "10               Belize               0\n",
       "..                  ...             ...\n",
       "79     Nouvelle-Zélande               3\n",
       "111             Tunisie               3\n",
       "112             Turquie               3\n",
       "114             Ukraine               3\n",
       "29               Égypte               3\n",
       "\n",
       "[123 rows x 2 columns]"
      ]
     },
     "execution_count": 89,
     "metadata": {},
     "output_type": "execute_result"
    }
   ],
   "source": [
    "data_cluster = pd.DataFrame({'Zone' : df6.index.tolist(),\n",
    "                             'kmeans_cluster' : clusters})\n",
    "data_cluster = data_cluster.sort_values(['kmeans_cluster', 'Zone'])\n",
    "data_cluster"
   ]
  },
  {
   "cell_type": "code",
   "execution_count": null,
   "id": "bd581691",
   "metadata": {},
   "outputs": [],
   "source": []
  },
  {
   "cell_type": "code",
   "execution_count": 90,
   "id": "eb342c5c",
   "metadata": {},
   "outputs": [],
   "source": [
    "# On crée les différents composants nécessaires à l'ACP\n",
    "n_comp = 4\n",
    "data_pca = df6[['dispo_kcal_hab_ans','dispo_prot_hab_ans','%prot_anim_prot_tot','pop_ratio','prot_volail',\"PIB/habitant/US$\"]]\n",
    "\n",
    "X = df6.values\n",
    "names = df6.index\n",
    "features = df6.columns"
   ]
  },
  {
   "cell_type": "code",
   "execution_count": 91,
   "id": "83793f2e",
   "metadata": {},
   "outputs": [],
   "source": [
    "# On prépare les données en faisant une normalisation (centrage-réduction)\n",
    "std_scale = preprocessing.StandardScaler().fit(X)\n",
    "X_scaled = std_scale.transform(X)"
   ]
  },
  {
   "cell_type": "code",
   "execution_count": 92,
   "id": "b4e9335c",
   "metadata": {},
   "outputs": [
    {
     "data": {
      "text/plain": [
       "PCA(n_components=4)"
      ]
     },
     "execution_count": 92,
     "metadata": {},
     "output_type": "execute_result"
    }
   ],
   "source": [
    "# On applique l'ACP sur nos données transformées\n",
    "pca = decomposition.PCA(n_components=n_comp)\n",
    "pca.fit(X_scaled)"
   ]
  },
  {
   "cell_type": "code",
   "execution_count": 93,
   "id": "aaf9ba45",
   "metadata": {},
   "outputs": [
    {
     "data": {
      "image/png": "[encoded data removed]",
      "text/plain": [
       "<Figure size 720x720 with 1 Axes>"
      ]
     },
     "metadata": {
      "needs_background": "light"
     },
     "output_type": "display_data"
    }
   ],
   "source": [
    "# On affiche l'éboulis des valeurs propres\n",
    "# On pourra voir le pourcentage d'inertie pour chaque composante\n",
    "\n",
    "fig, ax = plt.subplots(figsize=(10,10))\n",
    "scree = pca.explained_variance_ratio_*100\n",
    "plt.bar(np.arange(len(scree))+1, scree, color='gray')\n",
    "plt.plot(np.arange(len(scree))+1, scree.cumsum(),marker='o', color='r')\n",
    "plt.xlabel(\"Rang de l'axe d'inertie\")\n",
    "plt.ylabel(\"Pourcentage d'inertie\")\n",
    "plt.title(\"Eboulis des valeurs propres\")\n",
    "plt.show(block=False)"
   ]
  },
  {
   "cell_type": "code",
   "execution_count": 94,
   "id": "d7270daf",
   "metadata": {},
   "outputs": [
    {
     "data": {
      "image/png": "[encoded data removed]",
      "text/plain": [
       "<Figure size 720x720 with 1 Axes>"
      ]
     },
     "metadata": {
      "needs_background": "light"
     },
     "output_type": "display_data"
    },
    {
     "data": {
      "image/png": "[encoded data removed]",
      "text/plain": [
       "<Figure size 720x720 with 1 Axes>"
      ]
     },
     "metadata": {
      "needs_background": "light"
     },
     "output_type": "display_data"
    }
   ],
   "source": [
    "# Cercle des corrélations\n",
    "pcs = pca.components_\n",
    "display_circles(pcs, n_comp, pca, [(0,1),(2,3)], labels = np.array(features))\n"
   ]
  },
  {
   "cell_type": "code",
   "execution_count": null,
   "id": "e83a24e6",
   "metadata": {},
   "outputs": [],
   "source": []
  },
  {
   "cell_type": "code",
   "execution_count": 95,
   "id": "d429853f",
   "metadata": {},
   "outputs": [
    {
     "data": {
      "text/html": [
       "<div>\n",
       "<style scoped>\n",
       "    .dataframe tbody tr th:only-of-type {\n",
       "        vertical-align: middle;\n",
       "    }\n",
       "\n",
       "    .dataframe tbody tr th {\n",
       "        vertical-align: top;\n",
       "    }\n",
       "\n",
       "    .dataframe thead th {\n",
       "        text-align: right;\n",
       "    }\n",
       "</style>\n",
       "<table border=\"1\" class=\"dataframe\">\n",
       "  <thead>\n",
       "    <tr style=\"text-align: right;\">\n",
       "      <th></th>\n",
       "      <th>pop_ratio</th>\n",
       "      <th>PIB/habitant/US$</th>\n",
       "      <th>%prot_anim_prot_tot</th>\n",
       "      <th>dispo_prot_hab_ans</th>\n",
       "      <th>prot_volail</th>\n",
       "      <th>dispo_kcal_hab_ans</th>\n",
       "      <th>kmeans_cluster</th>\n",
       "    </tr>\n",
       "    <tr>\n",
       "      <th>Zone</th>\n",
       "      <th></th>\n",
       "      <th></th>\n",
       "      <th></th>\n",
       "      <th></th>\n",
       "      <th></th>\n",
       "      <th></th>\n",
       "      <th></th>\n",
       "    </tr>\n",
       "  </thead>\n",
       "  <tbody>\n",
       "    <tr>\n",
       "      <th>Afghanistan</th>\n",
       "      <td>3.124915</td>\n",
       "      <td>2102.4</td>\n",
       "      <td>20.83</td>\n",
       "      <td>42467.75</td>\n",
       "      <td>0.00</td>\n",
       "      <td>1529715.0</td>\n",
       "      <td>2</td>\n",
       "    </tr>\n",
       "    <tr>\n",
       "      <th>Algérie</th>\n",
       "      <td>2.066436</td>\n",
       "      <td>11512.7</td>\n",
       "      <td>29.24</td>\n",
       "      <td>69262.40</td>\n",
       "      <td>1.05</td>\n",
       "      <td>2463020.0</td>\n",
       "      <td>3</td>\n",
       "    </tr>\n",
       "    <tr>\n",
       "      <th>Angola</th>\n",
       "      <td>3.498663</td>\n",
       "      <td>8239.8</td>\n",
       "      <td>38.46</td>\n",
       "      <td>42277.95</td>\n",
       "      <td>4.32</td>\n",
       "      <td>1764045.0</td>\n",
       "      <td>0</td>\n",
       "    </tr>\n",
       "    <tr>\n",
       "      <th>Antigua-et-Barbuda</th>\n",
       "      <td>1.084678</td>\n",
       "      <td>18104.4</td>\n",
       "      <td>64.34</td>\n",
       "      <td>58294.15</td>\n",
       "      <td>10.64</td>\n",
       "      <td>1753095.0</td>\n",
       "      <td>0</td>\n",
       "    </tr>\n",
       "    <tr>\n",
       "      <th>Bahamas</th>\n",
       "      <td>0.964026</td>\n",
       "      <td>35659.9</td>\n",
       "      <td>67.70</td>\n",
       "      <td>61758.00</td>\n",
       "      <td>7.09</td>\n",
       "      <td>1925375.0</td>\n",
       "      <td>0</td>\n",
       "    </tr>\n",
       "  </tbody>\n",
       "</table>\n",
       "</div>"
      ],
      "text/plain": [
       "                    pop_ratio  PIB/habitant/US$  %prot_anim_prot_tot  \\\n",
       "Zone                                                                   \n",
       "Afghanistan          3.124915            2102.4                20.83   \n",
       "Algérie              2.066436           11512.7                29.24   \n",
       "Angola               3.498663            8239.8                38.46   \n",
       "Antigua-et-Barbuda   1.084678           18104.4                64.34   \n",
       "Bahamas              0.964026           35659.9                67.70   \n",
       "\n",
       "                    dispo_prot_hab_ans  prot_volail  dispo_kcal_hab_ans  \\\n",
       "Zone                                                                      \n",
       "Afghanistan                   42467.75         0.00           1529715.0   \n",
       "Algérie                       69262.40         1.05           2463020.0   \n",
       "Angola                        42277.95         4.32           1764045.0   \n",
       "Antigua-et-Barbuda            58294.15        10.64           1753095.0   \n",
       "Bahamas                       61758.00         7.09           1925375.0   \n",
       "\n",
       "                    kmeans_cluster  \n",
       "Zone                                \n",
       "Afghanistan                      2  \n",
       "Algérie                          3  \n",
       "Angola                           0  \n",
       "Antigua-et-Barbuda               0  \n",
       "Bahamas                          0  "
      ]
     },
     "execution_count": 95,
     "metadata": {},
     "output_type": "execute_result"
    }
   ],
   "source": [
    "df6=pd.merge(df6,data_cluster, on='Zone')\n",
    "illustrative_var = df6['kmeans_cluster']\n",
    "df6= df6.set_index('Zone')\n",
    "df6.head()"
   ]
  },
  {
   "cell_type": "code",
   "execution_count": 96,
   "id": "0715b122",
   "metadata": {},
   "outputs": [
    {
     "data": {
      "image/png": "[encoded data removed]",
      "text/plain": [
       "<Figure size 720x720 with 1 Axes>"
      ]
     },
     "metadata": {
      "needs_background": "light"
     },
     "output_type": "display_data"
    },
    {
     "data": {
      "image/png": "[encoded data removed]",
      "text/plain": [
       "<Figure size 720x720 with 1 Axes>"
      ]
     },
     "metadata": {
      "needs_background": "light"
     },
     "output_type": "display_data"
    }
   ],
   "source": [
    "X_projected = pca.transform(X_scaled)\n",
    "display_factorial_planes(X_projected, n_comp, pca, [(0,1),(2,3)], illustrative_var=illustrative_var)"
   ]
  },
  {
   "cell_type": "code",
   "execution_count": 97,
   "id": "121a83ef",
   "metadata": {},
   "outputs": [
    {
     "data": {
      "image/png": "[encoded data removed]",
      "text/plain": [
       "<Figure size 720x720 with 1 Axes>"
      ]
     },
     "metadata": {
      "needs_background": "light"
     },
     "output_type": "display_data"
    }
   ],
   "source": [
    "# Calculer la moyenne de chaque variable pour chaque cluster\n",
    "df7 = pd.pivot_table(df6, columns='kmeans_cluster', aggfunc=np.mean).transpose()\n",
    "df7 = df7[['pop_ratio','PIB/habitant/US$','%prot_anim_prot_tot','dispo_prot_hab_ans','prot_volail','dispo_kcal_hab_ans']]\n",
    "\n",
    "\n",
    "X = df7.values\n",
    "std_scale = preprocessing.StandardScaler().fit(X)\n",
    "X_scaled = std_scale.transform(X)\n",
    "\n",
    "# Projection des points dans le premier plan factoriel\n",
    "X_projected = pca.transform(X_scaled)\n",
    "display_factorial_planes(X_projected, n_comp, pca, [(0,1)], illustrative_var=df7.index)"
   ]
  },
  {
   "cell_type": "code",
   "execution_count": 98,
   "id": "9294a80c",
   "metadata": {},
   "outputs": [
    {
     "data": {
      "text/plain": [
       "1    46\n",
       "0    43\n",
       "2    18\n",
       "3    16\n",
       "Name: kmeans_cluster, dtype: int64"
      ]
     },
     "execution_count": 98,
     "metadata": {},
     "output_type": "execute_result"
    }
   ],
   "source": [
    "df6['kmeans_cluster'].value_counts()"
   ]
  },
  {
   "cell_type": "code",
   "execution_count": 99,
   "id": "384ee798",
   "metadata": {},
   "outputs": [
    {
     "data": {
      "image/png": "[encoded data removed]",
      "text/plain": [
       "<Figure size 720x720 with 1 Axes>"
      ]
     },
     "metadata": {
      "needs_background": "light"
     },
     "output_type": "display_data"
    }
   ],
   "source": [
    "plt.figure(figsize=(10,10))\n",
    "\n",
    "sns.boxplot(x='kmeans_cluster', y='prot_volail', data=df6)\n",
    "plt.xlabel('Clusters')\n",
    "plt.ylabel('Proportion des protéines issus de viande de volaille (en %)')\n",
    "plt.title('Proportion de protéines issus de viande de volaille en fonction des clusters de pays')\n",
    "\n",
    "plt.show()"
   ]
  },
  {
   "cell_type": "code",
   "execution_count": 100,
   "id": "3cc473dd",
   "metadata": {},
   "outputs": [
    {
     "data": {
      "text/plain": [
       "MannwhitneyuResult(statistic=348.0, pvalue=0.3727765694535272)"
      ]
     },
     "execution_count": 100,
     "metadata": {},
     "output_type": "execute_result"
    }
   ],
   "source": [
    "clust1 = df6[df6[\"kmeans_cluster\"]==1][\"prot_volail\"]\n",
    "clust3 = df6[df6[\"kmeans_cluster\"]==3][\"prot_volail\"]\n",
    "\n",
    "# Réalisation d'un test de Mann-Whitney pour s'assurer de la significativité des différences\n",
    "st.stats.mannwhitneyu(clust1, clust3)"
   ]
  },
  {
   "cell_type": "code",
   "execution_count": null,
   "id": "56609396",
   "metadata": {},
   "outputs": [],
   "source": []
  },
  {
   "cell_type": "code",
   "execution_count": null,
   "id": "3b9eb9af",
   "metadata": {},
   "outputs": [],
   "source": []
  },
  {
   "cell_type": "code",
   "execution_count": 101,
   "id": "be9b6262",
   "metadata": {
    "scrolled": false
   },
   "outputs": [
    {
     "data": {
      "image/png": "[encoded data removed]",
      "text/plain": [
       "<Figure size 720x720 with 1 Axes>"
      ]
     },
     "metadata": {
      "needs_background": "light"
     },
     "output_type": "display_data"
    }
   ],
   "source": [
    "plt.figure(figsize=(10,10))\n",
    "\n",
    "sns.boxplot(x='kmeans_cluster', y='PIB/habitant/US$', data=df6)\n",
    "plt.xlabel('Clusters')\n",
    "plt.ylabel('PIB/HABITANT')\n",
    "plt.title('PIB par habitant en fonction des clusters de pays')\n",
    "\n",
    "\n",
    "\n",
    "plt.show()"
   ]
  },
  {
   "cell_type": "code",
   "execution_count": 102,
   "id": "43d4a9e7",
   "metadata": {},
   "outputs": [
    {
     "data": {
      "text/plain": [
       "MannwhitneyuResult(statistic=273.0, pvalue=0.06422485261820332)"
      ]
     },
     "execution_count": 102,
     "metadata": {},
     "output_type": "execute_result"
    }
   ],
   "source": [
    "clust1 = df6[df6[\"kmeans_cluster\"]==1][\"PIB/habitant/US$\"]\n",
    "clust3 = df6[df6[\"kmeans_cluster\"]==3][\"PIB/habitant/US$\"]\n",
    "\n",
    "# Réalisation d'un test de Mann-Whitney pour s'assurer de la significativité des différences\n",
    "st.stats.mannwhitneyu(clust1, clust3)"
   ]
  },
  {
   "cell_type": "code",
   "execution_count": 103,
   "id": "ed8810ca",
   "metadata": {},
   "outputs": [],
   "source": [
    "#Le résultat du test de Mann-Whitney montre une différence entre les deuxcluster\n",
    "#Le PIB par habitant dans ces deux clusters sont  différents."
   ]
  },
  {
   "cell_type": "code",
   "execution_count": 104,
   "id": "68516323",
   "metadata": {},
   "outputs": [
    {
     "name": "stdout",
     "output_type": "stream",
     "text": [
      "Index(['Algérie', 'Brésil', 'Azerbaïdjan', 'Égypte', 'Kiribati', 'Hongrie',\n",
      "       'Iran (République islamique d')', 'Kazakhstan', 'Koweït', 'Mexique',\n",
      "       'Maroc', 'Nouvelle-Zélande', 'Arabie saoudite', 'Tunisie', 'Turquie',\n",
      "       'Ukraine'],\n",
      "      dtype='object', name='Zone')\n"
     ]
    }
   ],
   "source": [
    "print(df6.loc[df6['kmeans_cluster'] ==3 ].index)"
   ]
  },
  {
   "cell_type": "code",
   "execution_count": 105,
   "id": "6e3aa72f",
   "metadata": {},
   "outputs": [],
   "source": [
    "#Les pays du cluster 3 sont ceux ayant une croissance de population assez importante et un PIB par habitant moyen "
   ]
  },
  {
   "cell_type": "code",
   "execution_count": 106,
   "id": "7e5f1e39",
   "metadata": {
    "scrolled": true
   },
   "outputs": [
    {
     "name": "stdout",
     "output_type": "stream",
     "text": [
      "                                pop_ratio  PIB/habitant/US$  \\\n",
      "Zone                                                          \n",
      "Koweït                           3.919055           56647.4   \n",
      "Arabie saoudite                  2.591068           48209.1   \n",
      "Égypte                           2.231572           10353.7   \n",
      "Algérie                          2.066436           11512.7   \n",
      "Turquie                          1.683498           24881.7   \n",
      "Kazakhstan                       1.556996           24355.8   \n",
      "Kiribati                         1.406880            1992.2   \n",
      "Maroc                            1.378220            6912.2   \n",
      "Iran (République islamique d')   1.325030           13038.6   \n",
      "Mexique                          1.248912           18887.6   \n",
      "Azerbaïdjan                      1.232145           14875.8   \n",
      "Tunisie                          1.055282           10498.8   \n",
      "Nouvelle-Zélande                 1.029113           40432.2   \n",
      "Brésil                           0.842374           15749.5   \n",
      "Hongrie                         -0.276063           26424.7   \n",
      "Ukraine                         -0.420941           12409.0   \n",
      "\n",
      "                                %prot_anim_prot_tot  dispo_prot_hab_ans  \\\n",
      "Zone                                                                      \n",
      "Koweït                                        47.84            73740.95   \n",
      "Arabie saoudite                               40.87            66532.20   \n",
      "Égypte                                        25.20            72379.50   \n",
      "Algérie                                       29.24            69262.40   \n",
      "Turquie                                       33.69            78478.65   \n",
      "Kazakhstan                                    57.65            67342.50   \n",
      "Kiribati                                      49.42            53972.55   \n",
      "Maroc                                         26.38            72222.55   \n",
      "Iran (République islamique d')                28.69            62425.95   \n",
      "Mexique                                       47.79            65590.50   \n",
      "Azerbaïdjan                                   35.34            66966.55   \n",
      "Tunisie                                       28.36            73244.55   \n",
      "Nouvelle-Zélande                              55.77            66831.50   \n",
      "Brésil                                        56.12            68795.20   \n",
      "Hongrie                                       54.68            60575.40   \n",
      "Ukraine                                       46.55            62513.55   \n",
      "\n",
      "                                prot_volail  dispo_kcal_hab_ans  \\\n",
      "Zone                                                              \n",
      "Koweït                                 7.42           2529085.0   \n",
      "Arabie saoudite                        7.68           2388925.0   \n",
      "Égypte                                 2.02           2473240.0   \n",
      "Algérie                                1.05           2463020.0   \n",
      "Turquie                                0.00           2670340.0   \n",
      "Kazakhstan                             3.25           2319210.0   \n",
      "Kiribati                               0.00           2259350.0   \n",
      "Maroc                                  3.03           2477985.0   \n",
      "Iran (République islamique d')         5.26           2266285.0   \n",
      "Mexique                                4.45           2285630.0   \n",
      "Azerbaïdjan                            0.00           2256430.0   \n",
      "Tunisie                                0.00           2507915.0   \n",
      "Nouvelle-Zélande                       4.92           2296580.0   \n",
      "Brésil                                 6.90           2409730.0   \n",
      "Hongrie                                4.22           2271030.0   \n",
      "Ukraine                                0.00           2295120.0   \n",
      "\n",
      "                                kmeans_cluster  \n",
      "Zone                                            \n",
      "Koweït                                       3  \n",
      "Arabie saoudite                              3  \n",
      "Égypte                                       3  \n",
      "Algérie                                      3  \n",
      "Turquie                                      3  \n",
      "Kazakhstan                                   3  \n",
      "Kiribati                                     3  \n",
      "Maroc                                        3  \n",
      "Iran (République islamique d')               3  \n",
      "Mexique                                      3  \n",
      "Azerbaïdjan                                  3  \n",
      "Tunisie                                      3  \n",
      "Nouvelle-Zélande                             3  \n",
      "Brésil                                       3  \n",
      "Hongrie                                      3  \n",
      "Ukraine                                      3  \n"
     ]
    }
   ],
   "source": [
    "pays_choisi= df6.loc[(df6['kmeans_cluster']== 3)]\n",
    "pays_choisi = pays_choisi.sort_values(['pop_ratio', 'PIB/habitant/US$'], ascending=False)\n",
    "print(pays_choisi)"
   ]
  },
  {
   "cell_type": "code",
   "execution_count": null,
   "id": "44b37156",
   "metadata": {},
   "outputs": [],
   "source": []
  },
  {
   "cell_type": "code",
   "execution_count": null,
   "id": "2695f92d",
   "metadata": {},
   "outputs": [],
   "source": []
  },
  {
   "cell_type": "code",
   "execution_count": null,
   "id": "eff79f1a",
   "metadata": {},
   "outputs": [],
   "source": []
  },
  {
   "cell_type": "code",
   "execution_count": null,
   "id": "018ba916",
   "metadata": {},
   "outputs": [],
   "source": []
  },
  {
   "cell_type": "code",
   "execution_count": null,
   "id": "7fe6406d",
   "metadata": {},
   "outputs": [],
   "source": []
  },
  {
   "cell_type": "code",
   "execution_count": null,
   "id": "2749ec9b",
   "metadata": {},
   "outputs": [],
   "source": []
  },
  {
   "cell_type": "code",
   "execution_count": null,
   "id": "0bbf525e",
   "metadata": {},
   "outputs": [],
   "source": []
  },
  {
   "cell_type": "code",
   "execution_count": null,
   "id": "59935cf0",
   "metadata": {},
   "outputs": [],
   "source": []
  },
  {
   "cell_type": "code",
   "execution_count": null,
   "id": "a8a48117",
   "metadata": {},
   "outputs": [],
   "source": []
  }
 ],
 "metadata": {
  "kernelspec": {
   "display_name": "Python 3",
   "language": "python",
   "name": "python3"
  },
  "language_info": {
   "codemirror_mode": {
    "name": "ipython",
    "version": 3
   },
   "file_extension": ".py",
   "mimetype": "text/x-python",
   "name": "python",
   "nbconvert_exporter": "python",
   "pygments_lexer": "ipython3",
   "version": "3.8.8"
  }
 },
 "nbformat": 4,
 "nbformat_minor": 5
}
